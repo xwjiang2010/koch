{
 "cells": [
  {
   "cell_type": "code",
   "execution_count": 3,
   "metadata": {},
   "outputs": [],
   "source": [
    "import requests\n",
    "import json\n",
    "from pprint import pprint\n",
    "import pandas as pd"
   ]
  },
  {
   "cell_type": "markdown",
   "metadata": {},
   "source": [
    "# Setup"
   ]
  },
  {
   "cell_type": "code",
   "execution_count": null,
   "metadata": {},
   "outputs": [],
   "source": [
    "Baseurl = 'https://kgsa-dev.kochcloud.com/review'\n",
    "##Baseurl = 'https://kgsa-dev.kochcloud.com'\n",
    "user = 'badrul'\n",
    "password = \"%IaY0lolDEOeQqsii$w9UO\""
   ]
  },
  {
   "cell_type": "markdown",
   "metadata": {},
   "source": [
    "# Model Training"
   ]
  },
  {
   "cell_type": "markdown",
   "metadata": {},
   "source": [
    "### C3 FHR Data"
   ]
  },
  {
   "cell_type": "code",
   "execution_count": null,
   "metadata": {},
   "outputs": [],
   "source": [
    "## TODO: Read in the data and show the head\n",
    "s3DataPath = \"s3://prediction_services/data/TrainingInputData_Transformed_Test_Sample_2.csv\"\n",
    "fhrDf = pd.read_csv(s3DataPath, sep=',', header = 0, index_col = 0)\n",
    "fhrDf.index = pd.to_datetime(fhrDf.index)\n",
    "fhrDf.head()"
   ]
  },
  {
   "cell_type": "markdown",
   "metadata": {},
   "source": [
    "### Training Parameters\n",
    "Dictionary below contains the minimum configuration needed to run a training job."
   ]
  },
  {
   "cell_type": "code",
   "execution_count": 15,
   "metadata": {},
   "outputs": [],
   "source": [
    "trainingDict = {\n",
    "        \"training\": {\n",
    "            \"train_name\": \"model-minimum-config-jupyter\", \n",
    "            \"target_data_location\": \"s3://prediction_services/data/TrainingInputData_Transformed_Test_Sample_2.csv\",\n",
    "            \"train_data_end_dtm\": \"6/1/2020\",\n",
    "            \"test_data_end_dtm\": \"9/1/2020\",\n",
    "            \"validation_data_end_dtm\": \"12/1/2020\",\n",
    "            \"model_names\": [\"ARIMA\", \"HOLTWINTERS\", \"PROPHET\"] \n",
    "        }\n",
    "    }\n"
   ]
  },
  {
   "cell_type": "markdown",
   "metadata": {},
   "source": [
    "### Training Configuration Explanation\n"
   ]
  },
  {
   "cell_type": "markdown",
   "metadata": {},
   "source": [
    "1. **train_name** = Used to identify training job and used in model version\n",
    "2. **target_data_location** = S3 (only S3 is supported) location of the CSV file containing the training data\n",
    "3. **train_data_end_dtm** - Last inclusive day to be used for training\n",
    "4. **test_data_end_dtm** - Last inclusive day to be used for testing\n",
    "5. **validation_data_end_dtm** - Last day or the remaining data\n",
    "6. **model_names** - List of models to be trained on the data\n"
   ]
  },
  {
   "cell_type": "markdown",
   "metadata": {},
   "source": [
    "### Important Default Parameters\n",
    "1. Default training task is **Model** which trains on the data using single default set of model parameters\n",
    "2. Code will run in **Sequential** mode, i.e., on a single core\n",
    "3. Default loss function is **MAPE**\n",
    "4. Default prediction frequency is **Monthly** "
   ]
  },
  {
   "cell_type": "markdown",
   "metadata": {},
   "source": [
    "### Executing Training Job"
   ]
  },
  {
   "cell_type": "markdown",
   "metadata": {},
   "source": [
    "Training can be divided into two categories:\n",
    "1. **Model** - Training one or more models based on single parameter set (either default or user provided)\n",
    "2. **Tuning** - Train one or more models in automated mode (population based training) or configured supported algorithms.  Only the following algorithms are supported:\n",
    "    1. Grid search\n",
    "    2. Random search\n",
    "    3. Bayesian Optimization\n",
    "    4. Population Based Training\n",
    "    \n",
    "To train or tune use the base url + /training\n",
    "Upon the successful submission of the training to the Prediction Service, training ID and status will be returned.\n",
    "Training ID is needed to get status and results of training."
   ]
  },
  {
   "cell_type": "code",
   "execution_count": 16,
   "metadata": {},
   "outputs": [],
   "source": [
    "response = requests.post(Baseurl+\"/training\", \n",
    "                         auth=(user, password),\n",
    "                         data = json.dumps(trainingDict))  \n",
    "                         #json = trainingDict)"
   ]
  },
  {
   "cell_type": "markdown",
   "metadata": {},
   "source": [
    "### Extracting Training Result"
   ]
  },
  {
   "cell_type": "code",
   "execution_count": 17,
   "metadata": {
    "scrolled": true
   },
   "outputs": [
    {
     "name": "stdout",
     "output_type": "stream",
     "text": [
      "<Response [200]>\n",
      "b7086a89-60cf-4e27-8dcb-25cfec5e91eb\n"
     ]
    }
   ],
   "source": [
    "print(response)\n",
    "result = response.json()\n",
    "trainingId = result['runId']\n",
    "print(trainingId)\n",
    "\n"
   ]
  },
  {
   "cell_type": "markdown",
   "metadata": {},
   "source": [
    "### Result of Calling the Training Job\n",
    "\n",
    "The training is executed asynchronously.  This end point submits the job to the prediction service which gets queued and run as resource become available.  Thus, the end point returns a **runId** which is needed to get status, training results or use the trained model for prediction"
   ]
  },
  {
   "cell_type": "code",
   "execution_count": 15,
   "metadata": {},
   "outputs": [
    {
     "name": "stdout",
     "output_type": "stream",
     "text": [
      "{'runId': '0451290a-e15e-4a28-8a6b-6c455f27ce90', 'status': 'Submitted', 'trainStartTs': 'Wed, 30 Dec 2020 14:49:05 GMT', 'updateTs': 'Wed, 30 Dec 2020 14:49:05 GMT'}\n"
     ]
    }
   ],
   "source": [
    "trainingStatus = status_response.json()\n",
    "print(trainingStatus)"
   ]
  },
  {
   "cell_type": "markdown",
   "metadata": {},
   "source": [
    "### Parameters Returned by Status Call\n",
    "\n",
    "1. **runId** - This is an UUID that uniquely identifies each training job.  This UUID is **very important** as all subsequent information and result of training is identified using the UUID.  The UUID can also be used during prediction to use the model trained\n",
    "2. **status**: Current status of the training\n",
    "3. **trainStartTs**: Timestamp of the training start "
   ]
  },
  {
   "cell_type": "code",
   "execution_count": 16,
   "metadata": {},
   "outputs": [
    {
     "name": "stdout",
     "output_type": "stream",
     "text": [
      "<Response [200]>\n",
      "{'Status': 'Submitted', 'UpdateTs': 'Wed, 30 Dec 2020 14:49:05 GMT', 'resultLocation': 's3://prediction-services/train/', 'runId': '0451290a-e15e-4a28-8a6b-6c455f27ce90', 'trainEndTs': None, 'trainStartTs': 'Wed, 30 Dec 2020 14:49:05 GMT'}\n"
     ]
    }
   ],
   "source": [
    "resultResponse = requests.get(Baseurl+\"/trainings/\"+ trainingId,\n",
    "                              auth=(user,password))    \n",
    "print(resultResponse)\n",
    "trainResults = resultResponse.json()\n",
    "print(trainResults)"
   ]
  },
  {
   "cell_type": "markdown",
   "metadata": {},
   "source": [
    "### Training Result Information\n",
    "\n",
    "Paramters Explnation:\n",
    "1. **status** - Status of the training job.\n",
    "2. **resultLocation** - S3 location where training scores will be stored once the training has completed\n"
   ]
  },
  {
   "cell_type": "code",
   "execution_count": null,
   "metadata": {},
   "outputs": [],
   "source": [
    "##TODO: Read in the forecast results and show "
   ]
  },
  {
   "cell_type": "markdown",
   "metadata": {},
   "source": [
    "# Model Tuning and Experimentation"
   ]
  },
  {
   "cell_type": "markdown",
   "metadata": {},
   "source": [
    "### Hyperparameter Tuning Introduction\n",
    "**Tuning jobs scale by**:\n",
    "1. Scaling up or Vertical Scaling - Parallel or\n",
    "2. Scaling out or Horizontal Scaling - Distributed\n",
    "\n",
    "Univariate models execute independently.  For each server number of models being tuned simultaneously is limited by number of CPUs on the server\n",
    "\n",
    "**Deep Learning Models and Parameter Server**\n",
    "A parameter server typically exists as a remote process or service and interacts with clients through remote procedure calls.\n",
    "\n",
    "Image(filename=images/param-server-arch.jpg)\n",
    "\n",
    "![Parameter Server Architecture](images/param-server-arch.jpg)\n",
    "\n",
    "For hyperparameter tuning a search space of paerameters has to be defined.\n",
    "\n",
    "#### Search Algorithms\n",
    "Search Algorithms are wrappers around open-source optimization libraries for efficient hyperparameter selection.\n",
    "\n",
    "Search Algorithms cannot affect or stop training processes. However, you can use them together to early stop the evaluation of bad trials.\n",
    "\n",
    "1. **Bayesian Optimization**: This constrained global optimization process builds upon bayesian inference and gaussian processes. It attempts to find the maximum value of an unknown function in as few iterations as possible. This is a good technique for optimization of high cost functions.\n",
    "2. **BOHB (Bayesian Optimization HyperBand)**: An algorithm that both terminates bad trials and also uses Bayesian Optimization to improve the hyperparameter search. It is backed by the HpBandSter library. BOHB is intended to be paired with a specific scheduler class: HyperBandForBOHB.\n",
    "3. **HyperOpt**: A Python library for serial and parallel optimization over awkward search spaces, which may include real-valued, discrete, and conditional dimensions.\n",
    "4. **Scikit-Optimize*:\n",
    "5. **Nevergrad**: HPO without computing gradients.\n",
    "\n",
    "\n",
    "#### Schedulers\n",
    "Schedulers are distributed implementations of early-stopping algorithm\n",
    "Schedulers can early terminate bad trials, pause trials, clone trials, and alter hyperparameters of a running trial.\n",
    "\n",
    "1. **Median Stopping Rule**: It applies the simple rule that a trial is aborted if the results are trending below the median of the previous trials.\n",
    "2. **Population Based Training (PBT)** - \n",
    "3. **FIFOScheduler* - Simple scheduler that just runs trials in submission order\n",
    "\n",
    "### Experiment Execution"
   ]
  },
  {
   "cell_type": "markdown",
   "metadata": {},
   "source": [
    "### Tuning Parameters\n",
    "Dictionary below contains the minimum configuration needed to run a tuning job."
   ]
  },
  {
   "cell_type": "code",
   "execution_count": 7,
   "metadata": {},
   "outputs": [],
   "source": [
    "trainingDict = {\n",
    "        \"training\": {\n",
    "            \"train_task_type\": \"TUNING\",\n",
    "            \"train_name\": \"TUNING-arima-config-jupyter\", \n",
    "            \"target_data_location\": \"s3://prediction-services/h0500hn_ft-worth.csv\",\n",
    "            \"train_data_end_dtm\": \"2019-12-01\",  \n",
    "            \"test_data_end_dtm\": \"2020-06-01\",         \n",
    "            \"validation_data_end_dtm\": \"2020-11-01\",\n",
    "            \"model_names\": [\"ARIMA\"] \n",
    "        },\n",
    "        \"models\": {\n",
    "            \"ARIMA\": {\n",
    "            \"model_name\": \"ARIMA\",\n",
    "            \"model_time_interval\": \"M\",\n",
    "            \"hyperparam_alg\": \"GRID-SEARCH\",\n",
    "            \"model_config\": {\n",
    "                \"parameters\": {\"p\": [1, 7], \"d\": [1, 2], \"q\": [0, 2]},\n",
    "                \"hyperparameters\": {\"disp\": 0}}\n",
    "            }\n",
    "        }\n",
    "    }\n",
    "response = requests.post(Baseurl+\"/training\", \n",
    "                         auth=(user, password),\n",
    "                         data = json.dumps(trainingDict))  \n",
    "                         #json = trainingDict)\n"
   ]
  },
  {
   "cell_type": "markdown",
   "metadata": {},
   "source": [
    "### Tuning Configuration Explanation\n",
    "#### Required Parameters\n",
    "1. **train_task_type** = \"TUNING\"\n",
    "    * By default it's set to \"MODEL\"\n",
    "2. **All the parameters mentioned in the training section**\n",
    "\n",
    "#### Optional Parameters\n",
    "1. **hyperparameter_algorithm** -\n"
   ]
  },
  {
   "cell_type": "code",
   "execution_count": 8,
   "metadata": {},
   "outputs": [
    {
     "name": "stdout",
     "output_type": "stream",
     "text": [
      "<Response [200]>\n",
      "fee0c8f0-4197-4fc8-ad13-ffb980bcc8af\n"
     ]
    }
   ],
   "source": [
    "print(response)\n",
    "result = response.json()\n",
    "trainingId = result['runId']\n",
    "print(trainingId)\n"
   ]
  },
  {
   "cell_type": "code",
   "execution_count": 5,
   "metadata": {},
   "outputs": [
    {
     "name": "stdout",
     "output_type": "stream",
     "text": [
      "<Response [200]>\n",
      "{'Status': 'Running', 'UpdateTs': 'Tue, 12 Jan 2021 02:17:57 GMT', 'resultLocation': 's3://prediction-services/train/', 'runId': '6b320ef3-917f-4ebf-9b7c-d0fc319ebfdb', 'trainEndTs': None, 'trainStartTs': 'Tue, 12 Jan 2021 02:17:57 GMT'}\n"
     ]
    }
   ],
   "source": [
    "resultResponse = requests.get(Baseurl+\"/trainings/\"+ trainingId,\n",
    "                              auth=(user,password))    \n",
    "print(resultResponse)\n",
    "trainResults = resultResponse.json()\n",
    "print(trainResults)"
   ]
  },
  {
   "cell_type": "markdown",
   "metadata": {},
   "source": [
    "# Prediction or Scoring"
   ]
  },
  {
   "cell_type": "markdown",
   "metadata": {},
   "source": [
    "### Scoring Parameters\n",
    "Dictionary below contains the minimum configuration needed to run a scoring job."
   ]
  },
  {
   "cell_type": "code",
   "execution_count": 9,
   "metadata": {},
   "outputs": [],
   "source": [
    "scoringDict = {\n",
    "        \"scoring\": {\n",
    "            \"score_name\": \"score-minimum-config-manager\",\n",
    "            \"target_data_location\": \"s3://prediction-services/data/test_single_target.csv\",\n",
    "            \"model_names\": [\"ARIMA\", \"HOLTWINTERS\"],\n",
    "            \"prediction_steps\": 12,\n",
    "            \"prediction_count\": 10\n",
    "            \n",
    "        }\n",
    "    }\n",
    "predResponse = requests.post(Baseurl+ \"/predictions\", \n",
    "                         auth=(user, password),\n",
    "                         data = json.dumps(scoringDict))  "
   ]
  },
  {
   "cell_type": "markdown",
   "metadata": {},
   "source": [
    "### Scoring Configuration Explanation\n",
    "#### Required Parameters\n",
    "1. **score_name** - \n",
    "2. **target_data_location** -\n",
    "3. **model_names** -\n",
    "\n",
    "#### Optional Parameters\n",
    "1. **prediction_steps** - \n",
    "2. **prediction_count** - "
   ]
  },
  {
   "cell_type": "code",
   "execution_count": 13,
   "metadata": {
    "scrolled": true
   },
   "outputs": [
    {
     "name": "stdout",
     "output_type": "stream",
     "text": [
      "<Response [200]>\n",
      "{'Status': 'Created', 'runId': 'a0a987ee-b2f3-47c7-80b9-98df99ff677b'}\n",
      "a0a987ee-b2f3-47c7-80b9-98df99ff677b\n"
     ]
    }
   ],
   "source": [
    "print(predResponse)\n",
    "predResults = predResponse.json()\n",
    "print(predResults)\n",
    "predId = predResults['runId']\n",
    "print(predId)"
   ]
  },
  {
   "cell_type": "code",
   "execution_count": 14,
   "metadata": {},
   "outputs": [
    {
     "name": "stdout",
     "output_type": "stream",
     "text": [
      "<Response [200]>\n",
      "{'Status': 'Running', 'runId': 'a0a987ee-b2f3-47c7-80b9-98df99ff677b'}\n"
     ]
    }
   ],
   "source": [
    "predResponse = requests.get(Baseurl+\"/predictions/\"+ predId,\n",
    "                              auth=(user,password))    \n",
    "print(predResponse)\n",
    "predStatus = predResponse.json()\n",
    "print(predStatus)\n"
   ]
  },
  {
   "cell_type": "markdown",
   "metadata": {},
   "source": [
    "## Prediction: Using Previously Trained Model"
   ]
  },
  {
   "cell_type": "code",
   "execution_count": 34,
   "metadata": {},
   "outputs": [],
   "source": [
    "scoringDict = {\n",
    "        \"scoring\": {\n",
    "            \"score_name\": \"score-minimum-config-manager\",\n",
    "            \"target_data_location\": \"s3://prediction_services/data/TrainingInputData_Transformed_Test_Sample_2.csv\",\n",
    "            \"model_names\": [\"ARIMA\"],\n",
    "            \"prediction_steps\": 12,\n",
    "            \"prediction_count\": 10,\n",
    "            \"train_run_id\": \"e5ff99ac-e260-49d0-934f-46c46d31f136\"\n",
    "        }\n",
    "    }\n",
    "predResponse = requests.post(Baseurl+ \"/predictions\", \n",
    "                         auth=(user, password),\n",
    "                         data = json.dumps(scoringDict))  "
   ]
  },
  {
   "cell_type": "code",
   "execution_count": null,
   "metadata": {},
   "outputs": [],
   "source": [
    "print(predResponse)\n",
    "predStatus = predResponse.json()\n",
    "print(predStatus)\n",
    "predId = predStatus['runId']\n",
    "print(predId)"
   ]
  },
  {
   "cell_type": "markdown",
   "metadata": {},
   "source": [
    "### Get Prediction Status"
   ]
  },
  {
   "cell_type": "code",
   "execution_count": 35,
   "metadata": {},
   "outputs": [
    {
     "name": "stdout",
     "output_type": "stream",
     "text": [
      "<Response [200]>\n",
      "{'Status': 'Created', 'runId': '870212f3-6eee-4dd3-8e16-e0f5bb152418'}\n",
      "870212f3-6eee-4dd3-8e16-e0f5bb152418\n"
     ]
    }
   ],
   "source": [
    "predResponse = requests.get(Baseurl+\"/predictions/\"+ predId,\n",
    "                              auth=(user,password))    \n",
    "print(predResponse)\n",
    "predStatus = predResponse.json()\n",
    "print(predStatus)\n",
    "predId = predStatus['runId']\n",
    "print(predId)"
   ]
  },
  {
   "cell_type": "markdown",
   "metadata": {},
   "source": [
    "### Fetch Prediction Results"
   ]
  },
  {
   "cell_type": "code",
   "execution_count": 36,
   "metadata": {},
   "outputs": [
    {
     "name": "stdout",
     "output_type": "stream",
     "text": [
      "<Response [200]>\n",
      "{'Status': 'Completed', 'UpdateTs': 'Wed, 23 Dec 2020 20:56:37 GMT', 'resultLocation': 's3://prediction-services/score/score-minimum-config-manager_2020-12-23-20.56.37.csv', 'runId': '870212f3-6eee-4dd3-8e16-e0f5bb152418', 'scoreEndTs': 'Wed, 23 Dec 2020 20:56:37 GMT', 'scoreStartTs': 'Wed, 23 Dec 2020 20:56:37 GMT'}\n"
     ]
    }
   ],
   "source": [
    "predResponse = requests.get(Baseurl+\"/predictions/\"+ predId,\n",
    "                              auth=(user,password))    \n",
    "print(predResponse)\n",
    "predResults = predResponse.json()\n",
    "print(predResults)"
   ]
  },
  {
   "cell_type": "code",
   "execution_count": null,
   "metadata": {},
   "outputs": [],
   "source": []
  }
 ],
 "metadata": {
  "kernelspec": {
   "display_name": "Python 3",
   "language": "python",
   "name": "python3"
  },
  "language_info": {
   "codemirror_mode": {
    "name": "ipython",
    "version": 3
   },
   "file_extension": ".py",
   "mimetype": "text/x-python",
   "name": "python",
   "nbconvert_exporter": "python",
   "pygments_lexer": "ipython3",
   "version": "3.8.6"
  }
 },
 "nbformat": 4,
 "nbformat_minor": 4
}
