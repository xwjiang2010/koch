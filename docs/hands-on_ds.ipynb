{
 "cells": [
  {
   "cell_type": "markdown",
   "metadata": {},
   "source": [
    "# Import Platform API"
   ]
  },
  {
   "cell_type": "code",
   "execution_count": 2,
   "metadata": {},
   "outputs": [],
   "source": [
    "import requests\n",
    "import json\n",
    "from pprint import pprint\n",
    "import boto3\n",
    "import pandas as pd"
   ]
  },
  {
   "cell_type": "markdown",
   "metadata": {},
   "source": [
    "# Initialization"
   ]
  },
  {
   "cell_type": "code",
   "execution_count": 3,
   "metadata": {},
   "outputs": [],
   "source": [
    "output_location = 's3://feature-selection-process-bucket/'\n",
    "##molex_data = “s3://kbs-analytics-molex-demand-forecasting/production/tuning/APS/monthly_agg_SKU_CUST_APS.csv”\n",
    "molex_bucket = 'kbs-analytics-molex-demand-forecasting'\n",
    "molex_file = \"production/tuning/APS/monthly_agg_SKU_CUST_APS.csv\"  \n",
    "\n",
    "pred_bucket = 'prediction-services'\n",
    "Baseurl = 'af862b932c04a40378f6ea79ad01b266-482589080.us-east-1.elb.amazonaws.com'\n",
    "user = 'badrul'\n",
    "password = \"%IaY0lolDEOeQqsii$w9UO\"\n"
   ]
  },
  {
   "cell_type": "markdown",
   "metadata": {},
   "source": [
    "## Hyperparameter Tuning Using Prediction Services API - Single Model"
   ]
  },
  {
   "cell_type": "code",
   "execution_count": 6,
   "metadata": {},
   "outputs": [
    {
     "data": {
      "text/plain": [
       "<Response [200]>"
      ]
     },
     "execution_count": 6,
     "metadata": {},
     "output_type": "execute_result"
    }
   ],
   "source": [
    "#Baseurl = 'af2e270e8de2e415d9a909d9c27dc983-1063955246.us-east-1.elb.amazonaws.com:5000'\n",
    "target_loc = 's3://' + pred_bucket + '/test_multi_target2.csv'\n",
    "output_loc = 's3://'+ pred_bucket + '/parallel_ray_test'\n",
    "params = {'model_training_runid': '1234-5674-7654-2345135',\n",
    " 'runID': '1234-5674-7654-2345135',\n",
    " 'model_name':['HOLTWINTERS'], \n",
    " 'model_parameters':{'HOLTWINTERS':\n",
    "                     {'parameters':{'trend': ['add','mul'], \n",
    "                                    'damped': [True, False], \n",
    "                                    'seasonal_periods':3, \n",
    "                                    'seasonal':[None]},\n",
    "                      \"hyperparameters\":{'smoothing_level':0.2}}\n",
    "                      }, \n",
    " 'target_data_location': target_loc,\n",
    " 'feature_data_location': None,\n",
    " 's3_location':{\n",
    "     'target_data': 's3://' + pred_bucket + '/test_multi_target.csv',\n",
    "     'feature_data': None}, \n",
    " 'train_split_ratio':[\"1990-1-01\",\"1990-1-26\", \"1990-1-29\"], \n",
    " 'data_split_ratio':[\"1990-1-01\",\"1990-1-26\", \"1990-1-29\"], \n",
    " 'train_performance_metrics':['MAPE'],\n",
    " 'test_performance_metrics':['MAPE'], \n",
    " 'parallelization_type':'Parallel', \n",
    " 'master_params':{'time_frequency':'M', \n",
    "                  'train_job_type':'fit_multiple',\n",
    "                  'tuner':'ray_tuner', \n",
    "                  'data_config':'multi-targets', \n",
    "                  'file_type':'csv', \n",
    "                  'output_location':'s3://'+ pred_bucket + '/parallel_ray_test'}, \n",
    "          'train_job_type':'fit_multiple'}\n",
    "\n",
    "response = requests.post(\"http://\"+Baseurl+\"/training\", \n",
    "                         auth=(user, password),\n",
    "                         data = json.dumps(params))    \n",
    "response"
   ]
  },
  {
   "cell_type": "markdown",
   "metadata": {},
   "source": [
    "## Hyperparameter Tuning Using Prediction Services API - MULTIPLE Models"
   ]
  },
  {
   "cell_type": "code",
   "execution_count": 7,
   "metadata": {},
   "outputs": [
    {
     "data": {
      "text/plain": [
       "<Response [200]>"
      ]
     },
     "execution_count": 7,
     "metadata": {},
     "output_type": "execute_result"
    }
   ],
   "source": [
    "##Baseurl='a34247cf2459f4cf7b3b89301b4a578c-616478844.us-east-1.elb.amazonaws.com:5000'\n",
    "##Baseurl = 'af2e270e8de2e415d9a909d9c27dc983-1063955246.us-east-1.elb.amazonaws.com:5000'\n",
    "target_loc = 's3://' + pred_bucket + '/test_multi_target.csv'\n",
    "output_loc = 's3://'+ pred_bucket + '/parallel_ray_test'\n",
    "params = {'model_training_runid': '1234-5674-7654-2345134',\n",
    " 'runID': '1234-5674-7654-2345134',\n",
    " 'model_name':['ARIMA', 'HOLTWINTERS', 'PROPHET'], \n",
    " 'model_parameters':{'ARIMA':\n",
    "                     {'parameters':{'p':[1,7], 'd':[1,2], 'q':[1,2]},\n",
    "                      'hyperparameters':{'disp':0}},\n",
    "                     'HOLTWINTERS':\n",
    "                     {'parameters':{'trend': ['add','mul'], \n",
    "                                    'damped': [True, False], \n",
    "                                    'seasonal_periods':3, \n",
    "                                    'seasonal':[None]},\n",
    "                      \"hyperparameters\":{'smoothing_level':0.2}},\n",
    "                      'PROPHET':\n",
    "                     {'parameters':{'growth':['linear'], \n",
    "                                    'changepoints': [None], \n",
    "                                    'n_changepoints': [20, 22], \n",
    "                                    'changepoint_range': [0.8, 0.9],\n",
    "                     'changepoint_prior_scale': [0.05, 0.1], \n",
    "                                    'yearly_seasonality': ['auto'], \n",
    "                                    'weekly_seasonality': ['auto'], \n",
    "                                    'daily_seasonality': ['auto'],\n",
    "                         'holidays': [None], \n",
    "                                    'seasonality_mode': ['additive','multiplicative'], \n",
    "                                    'seasonality_prior_scale': [10.0], \n",
    "                                    'holidays_prior_scale': [10.0],\n",
    "                         'interval_width': [0.8], \n",
    "                                    'uncertainty_samples': [1000]\n",
    "                                   }}}, \n",
    " 'target_data_location': target_loc,\n",
    " 'feature_data_location': None,\n",
    " 's3_location':{\n",
    "     'target_data': 's3://' + pred_bucket + '/test_multi_target.csv',\n",
    "     'feature_data': None}, \n",
    " 'train_split_ratio':[\"1990-1-01\",\"1990-1-26\", \"1990-1-29\"], \n",
    " 'data_split_ratio':[\"1990-1-01\",\"1990-1-26\", \"1990-1-29\"], \n",
    " 'train_performance_metrics':['MAPE'],\n",
    " 'test_performance_metrics':['MAPE'], \n",
    " 'parallelization_type':'Parallel', \n",
    " 'master_params':{'time_frequency':'M', \n",
    "                  'train_job_type':'fit_multiple',\n",
    "                  'tuner':'ray_tuner', \n",
    "                  'data_config':'multi-targets', \n",
    "                  'file_type':'csv', \n",
    "                  'output_location':'s3://'+ pred_bucket + '/parallel_ray_test'}, \n",
    "          'train_job_type':'fit_multiple'}\n",
    "Baseurl = 'af862b932c04a40378f6ea79ad01b266-482589080.us-east-1.elb.amazonaws.com'\n",
    "user = 'badrul'\n",
    "password = \"%IaY0lolDEOeQqsii$w9UO\"\n",
    " \n",
    "response = requests.post(\"http://\"+Baseurl+\"/training\", \n",
    "                         auth=(user, password),\n",
    "                         data = json.dumps(params))    \n",
    "response"
   ]
  },
  {
   "cell_type": "code",
   "execution_count": 8,
   "metadata": {
    "scrolled": true
   },
   "outputs": [
    {
     "name": "stdout",
     "output_type": "stream",
     "text": [
      "<Response [200]>\n",
      "s3://prediction-services/test_multi_target.csv\n",
      "s3://prediction-services/parallel_ray_test\n",
      "af862b932c04a40378f6ea79ad01b266-482589080.us-east-1.elb.amazonaws.com\n",
      "1\n"
     ]
    }
   ],
   "source": [
    "print(response)\n",
    "print(target_loc)\n",
    "print(output_loc)\n",
    "print(Baseurl)\n",
    "model_train_run_id = '1'\n",
    "print(model_train_run_id)\n",
    "##print(json.dumps(params))"
   ]
  },
  {
   "cell_type": "code",
   "execution_count": 9,
   "metadata": {},
   "outputs": [
    {
     "name": "stdout",
     "output_type": "stream",
     "text": [
      "1\n",
      "<Response [200]>\n"
     ]
    }
   ],
   "source": [
    "type(response)\n",
    "print(model_train_run_id)\n",
    "status_response = requests.get(\"http://\"+Baseurl+\"/trainings/\"+model_train_run_id,\n",
    "                              auth=(user,password))    \n",
    "print(status_response)"
   ]
  },
  {
   "cell_type": "markdown",
   "metadata": {},
   "source": [
    "# Prediction using Platform API"
   ]
  },
  {
   "cell_type": "code",
   "execution_count": null,
   "metadata": {},
   "outputs": [],
   "source": [
    "prediction_config = {\"forecast_steps\":3,\n",
    "                    'score_file_location': '',\n",
    "                     's3_location':{\n",
    "     'target_data': 's3://' + pred_bucket + '/test_multi_target.csv',\n",
    "     'feature_data': None}}\n",
    "target_data_config = \"edd0689f-b516-4770-ba82-7baa3193e69a\"\n",
    "feature_data_config = None\n",
    "model_training_run_id = model_train_run_id"
   ]
  },
  {
   "cell_type": "code",
   "execution_count": null,
   "metadata": {},
   "outputs": [],
   "source": [
    "response = requests.post(\"http://\"+Baseurl+\"/run_score\", data = json.dumps(prediction_config))    \n",
    "\n",
    "predict_response = ps_apiv1.create_model_predict(name, description, product_name, model_training_run_id, target_data_config, feature_data_config, prediction_config)\n",
    "predict_response"
   ]
  }
 ],
 "metadata": {
  "kernelspec": {
   "display_name": "conda_pytorch_p36",
   "language": "python",
   "name": "conda_pytorch_p36"
  },
  "language_info": {
   "codemirror_mode": {
    "name": "ipython",
    "version": 3
   },
   "file_extension": ".py",
   "mimetype": "text/x-python",
   "name": "python",
   "nbconvert_exporter": "python",
   "pygments_lexer": "ipython3",
   "version": "3.6.10"
  }
 },
 "nbformat": 4,
 "nbformat_minor": 4
}
