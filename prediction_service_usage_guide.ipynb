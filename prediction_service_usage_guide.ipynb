{
 "cells": [
  {
   "cell_type": "code",
   "execution_count": 1,
   "metadata": {},
   "outputs": [],
   "source": [
    "import requests\n",
    "import json\n",
    "from pprint import pprint\n",
    "import pandas as pd\n",
    "from tabulate import tabulate\n",
    "import pprint"
   ]
  },
  {
   "cell_type": "markdown",
   "metadata": {},
   "source": [
    "# Setup"
   ]
  },
  {
   "cell_type": "code",
   "execution_count": 8,
   "metadata": {},
   "outputs": [],
   "source": [
    "Baseurl = 'https://kgsa-dev.kochcloud.com'\n",
    "##Baseurl = 'https://kgsa-dev.kochcloud.com'\n",
    "user = 'badrul'\n",
    "password = \"%IaY0lolDEOeQqsii$w9UO\""
   ]
  },
  {
   "cell_type": "markdown",
   "metadata": {},
   "source": [
    "# Model Training"
   ]
  },
  {
   "cell_type": "markdown",
   "metadata": {},
   "source": [
    "### C3 FHR Data"
   ]
  },
  {
   "cell_type": "markdown",
   "metadata": {},
   "source": [
    "#### Data Format\n",
    "1. **First column** - should be a datetime column"
   ]
  },
  {
   "cell_type": "code",
   "execution_count": 9,
   "metadata": {},
   "outputs": [],
   "source": [
    "## TODO: Read in the data and show the head\n",
    "s3DataPath = \"s3://prediction-services/data/TrainingInputData_Transformed_Test_Sample_2.csv\"\n",
    "fhrDf = pd.read_csv(s3DataPath, sep=',', header = 0, index_col = 0)\n",
    "fhrDf.index = pd.to_datetime(fhrDf.index)\n",
    "##fhrDf.head()"
   ]
  },
  {
   "cell_type": "code",
   "execution_count": 10,
   "metadata": {},
   "outputs": [
    {
     "name": "stdout",
     "output_type": "stream",
     "text": [
      "+---------------------+------------------+--------------+---------------+--------------+--------------+--------------+--------------+\n",
      "| Date                |       19463-3243 |   34883-3350 |   53511-10483 |   53511-3199 |   53511-3553 |   53511-3802 |   53511-4773 |\n",
      "|---------------------+------------------+--------------+---------------+--------------+--------------+--------------+--------------|\n",
      "| 2017-12-01 00:00:00 |      0           |        46480 |             0 |            0 |            0 |            0 |            0 |\n",
      "| 2018-01-01 00:00:00 |      0           |            0 |             0 |            0 |            0 |            0 |            0 |\n",
      "| 2018-02-01 00:00:00 |      0           |       144000 |         42000 |            0 |        42000 |            0 |        37500 |\n",
      "| 2018-03-01 00:00:00 |      1.49072e+06 |       240000 |        168000 |       214500 |        21000 |       319500 |       306000 |\n",
      "| 2018-04-01 00:00:00 |      1.19184e+06 |       732180 |        168000 |       166500 |        42000 |       156000 |       157500 |\n",
      "| 2018-05-01 00:00:00 | 872157           |       576000 |             0 |        42000 |        90000 |       229000 |       319500 |\n",
      "| 2018-06-01 00:00:00 |      2.07216e+06 |       240000 |         84000 |       165000 |        21000 |       114000 |       247500 |\n",
      "| 2018-07-01 00:00:00 |      1.29072e+06 |       432000 |         84000 |       163500 |        42000 |       256500 |       274500 |\n",
      "| 2018-08-01 00:00:00 |      2.36379e+06 |       768000 |        168000 |        82500 |         9000 |       257873 |       265500 |\n",
      "| 2018-09-01 00:00:00 |      1.18144e+06 |       528000 |         42000 |       180000 |        76500 |       154500 |       230000 |\n",
      "| 2018-10-01 00:00:00 |      1.18144e+06 |       576000 |        126000 |       163500 |        84000 |        52500 |       237000 |\n",
      "| 2018-11-01 00:00:00 |      1.77761e+06 |       480000 |        168000 |        42000 |            0 |       237000 |       238500 |\n",
      "| 2018-12-01 00:00:00 |      1.29072e+06 |       480000 |         42000 |       105000 |       103500 |       240000 |        81000 |\n",
      "| 2019-01-01 00:00:00 |      1.58144e+06 |       576000 |        126000 |       120000 |        48000 |       304500 |       408000 |\n",
      "| 2019-02-01 00:00:00 |      1.87216e+06 |       480000 |        126000 |       163500 |        43500 |       264000 |       253500 |\n",
      "| 2019-03-01 00:00:00 |      2.64438e+06 |       432000 |         63000 |       115500 |            0 |       223500 |       232045 |\n",
      "| 2019-04-01 00:00:00 |      1.69072e+06 |       480000 |         84000 |        84000 |        24000 |       228000 |       301500 |\n",
      "| 2019-05-01 00:00:00 |      1.58144e+06 |       672000 |        168000 |       126000 |        63000 |       106500 |       337500 |\n",
      "| 2019-06-01 00:00:00 | 781438           |       480000 |        126000 |        63000 |        73500 |       195000 |       249000 |\n",
      "| 2019-07-01 00:00:00 |      1.38679e+06 |       528000 |        126000 |        22500 |        49500 |        90000 |       300000 |\n",
      "| 2019-08-01 00:00:00 |      1.57824e+06 |       432000 |        252000 |        42000 |        21000 |       259500 |       330000 |\n",
      "| 2019-09-01 00:00:00 |      2.18144e+06 |       576000 |        168000 |        15000 |        21000 |       277500 |       438560 |\n",
      "| 2019-10-01 00:00:00 |      2.09072e+06 |       912000 |        168000 |       151500 |         3000 |        88500 |       346500 |\n",
      "| 2019-11-01 00:00:00 |      1.96288e+06 |       718500 |        126000 |        21000 |        19500 |       165000 |       228000 |\n",
      "| 2019-12-01 00:00:00 |      2.36184e+06 |       672000 |         84000 |        12000 |        43500 |       202500 |       246000 |\n",
      "| 2020-01-01 00:00:00 |      2.6536e+06  |       672000 |        145500 |        36000 |         4500 |        93000 |       428000 |\n",
      "| 2020-02-01 00:00:00 |      1.78144e+06 |       576000 |        126000 |        15000 |        21000 |       157500 |       292500 |\n",
      "| 2020-03-01 00:00:00 |      1.56662e+06 |       336000 |        126000 |       126000 |        10500 |       156000 |       270000 |\n",
      "| 2020-04-01 00:00:00 |      1.36288e+06 |       528000 |        139607 |        84000 |        45000 |       285000 |       388500 |\n",
      "| 2020-05-01 00:00:00 | 581438           |       816000 |         95566 |       106500 |        12000 |        61500 |       432000 |\n",
      "| 2020-06-01 00:00:00 |      1.8536e+06  |       619300 |        183000 |         1500 |            0 |       103500 |       496500 |\n",
      "| 2020-07-01 00:00:00 |      1.47216e+06 |       480000 |        258804 |        72000 |         7500 |       136500 |       513000 |\n",
      "| 2020-08-01 00:00:00 |      3.0536e+06  |       672000 |        168000 |        84000 |        10500 |       163500 |       345000 |\n",
      "| 2020-09-01 00:00:00 | 762876           |       672000 |        187051 |        62180 |        48000 |       127500 |       312000 |\n",
      "| 2020-10-01 00:00:00 |      1.16288e+06 |       864000 |        126000 |        93000 |         7500 |       133500 |       204000 |\n",
      "| 2020-11-01 00:00:00 | 762876           |       528000 |        168000 |        42000 |         6000 |        73500 |       282000 |\n",
      "| 2020-12-01 00:00:00 | 272157           |       432000 |         42000 |            0 |         1500 |        40500 |        94500 |\n",
      "| 2021-01-01 00:00:00 |  90719           |        48000 |          6804 |        84000 |        10500 |        42000 |        12000 |\n",
      "+---------------------+------------------+--------------+---------------+--------------+--------------+--------------+--------------+\n"
     ]
    }
   ],
   "source": [
    "print(tabulate(fhrDf, headers='keys', tablefmt='psql'))\n"
   ]
  },
  {
   "cell_type": "markdown",
   "metadata": {},
   "source": [
    "### Training Parameters\n",
    "Dictionary below contains the minimum configuration needed to run a training job."
   ]
  },
  {
   "cell_type": "code",
   "execution_count": 11,
   "metadata": {},
   "outputs": [],
   "source": [
    "trainingDict = {\n",
    "        \"training\": {\n",
    "            \"train_name\": \"model-minimum-config-jupyter\", \n",
    "            \"target_data_location\": \"s3://prediction-services/data/TrainingInputData_Transformed_Test_Sample_2.csv\",\n",
    "            \"train_data_end_dtm\": \"2020-06-01\",\n",
    "            \"test_data_end_dtm\": \"2020-09-01\",\n",
    "            \"validation_data_end_dtm\": \"2020-12-01\",\n",
    "            \"model_names\": [\"ARIMA\", \"HOLTWINTERS\", \"PROPHET\"] \n",
    "        }\n",
    "    }\n"
   ]
  },
  {
   "cell_type": "markdown",
   "metadata": {},
   "source": [
    "#### Training Configuration Explanation\n"
   ]
  },
  {
   "cell_type": "markdown",
   "metadata": {},
   "source": [
    "1. **train_name** = Used to identify training job and used in model version\n",
    "2. **target_data_location** = S3 (only S3 is supported) location of the CSV file containing the training data\n",
    "3. **train_data_end_dtm** - Last inclusive day to be used for training\n",
    "4. **test_data_end_dtm** - Last inclusive day to be used for testing\n",
    "5. **validation_data_end_dtm** - Last day or the remaining data\n",
    "6. **model_names** - List of models to be trained on the data\n"
   ]
  },
  {
   "cell_type": "markdown",
   "metadata": {},
   "source": [
    "#### Important Default Parameters\n",
    "1. Default training task is **Model** which trains on the data using single default set of model parameters\n",
    "2. Code will run in **Sequential** mode, i.e., on a single core\n",
    "3. Default loss function is **MAPE**\n",
    "4. Default prediction frequency is **Monthly** "
   ]
  },
  {
   "cell_type": "markdown",
   "metadata": {},
   "source": [
    "### Executing Training Job"
   ]
  },
  {
   "cell_type": "code",
   "execution_count": 12,
   "metadata": {},
   "outputs": [],
   "source": [
    "response = requests.post(Baseurl+\"/training\", \n",
    "                         auth=(user, password),\n",
    "                         #data = json.dumps(trainingDict))  \n",
    "                         json = trainingDict)"
   ]
  },
  {
   "cell_type": "markdown",
   "metadata": {},
   "source": [
    "Training can be divided into two categories:\n",
    "1. **Model** - Training one or more models based on single parameter set (either default or user provided)\n",
    "2. **Tuning** - Train one or more models in automated mode (population based training) or configured supported algorithms.  Only the following algorithms are supported:\n",
    "    1. Grid search: *GRID-SEARCH*\n",
    "    2. Random search: *RANDOM*\n",
    "    3. Bayesian Optimization: *BAYESIAN*\n",
    "    4. Population Based Training: *PBT*\n",
    "    \n",
    "To train or tune use the base url + /training\n",
    "Upon the successful submission of the training to the Prediction Service, training ID and status will be returned.\n",
    "Training ID is needed to get status and results of training."
   ]
  },
  {
   "cell_type": "markdown",
   "metadata": {},
   "source": [
    "### Checking Training Status"
   ]
  },
  {
   "cell_type": "code",
   "execution_count": 13,
   "metadata": {
    "scrolled": true
   },
   "outputs": [
    {
     "name": "stdout",
     "output_type": "stream",
     "text": [
      "<Response [200]>\n",
      "{'runId': '3f8f1586-2be3-4b39-9b74-b897115e8df6', 'status': 'Submitted'}\n",
      "None\n",
      "3f8f1586-2be3-4b39-9b74-b897115e8df6\n"
     ]
    }
   ],
   "source": [
    "print(response)\n",
    "result = response.json()\n",
    "print(pprint.pprint(result))\n",
    "trainingId = result['runId']\n",
    "print(trainingId)"
   ]
  },
  {
   "cell_type": "markdown",
   "metadata": {},
   "source": [
    "#### Result of Calling the Training Job\n",
    "\n",
    "The training is executed asynchronously.  This end point submits the job to the prediction service which gets queued and run as resource become available.  Thus, the end point returns a **runId** which is needed to get status, training results or use the trained model for prediction"
   ]
  },
  {
   "cell_type": "code",
   "execution_count": 8,
   "metadata": {},
   "outputs": [
    {
     "name": "stdout",
     "output_type": "stream",
     "text": [
      "<Response [200]>\n"
     ]
    }
   ],
   "source": [
    "status_response = requests.get(Baseurl+\"/trainings/\" + trainingId,\n",
    "                              auth=(user,password))    \n",
    "print(status_response)"
   ]
  },
  {
   "cell_type": "code",
   "execution_count": 10,
   "metadata": {},
   "outputs": [
    {
     "name": "stdout",
     "output_type": "stream",
     "text": [
      "{'runId': '4690e6e9-2f1a-4912-9816-59b27ad8cc26',\n",
      " 'status': 'Running',\n",
      " 'trainStartTs': '2021-02-17T15:01:07.467155',\n",
      " 'updateTs': '2021-02-17T15:01:07.413007'}\n",
      "None\n"
     ]
    }
   ],
   "source": [
    "trainingStatus = status_response.json()\n",
    "print(pprint.pprint(trainingStatus))"
   ]
  },
  {
   "cell_type": "markdown",
   "metadata": {},
   "source": [
    "#### Parameters Returned by Status Call\n",
    "\n",
    "1. **runId** - This is an UUID that uniquely identifies each training job.  This UUID is **very important** as all subsequent information and result of training is identified using the UUID.  The UUID can also be used during prediction to use the model trained\n",
    "2. **status**: Current status of the training\n",
    "3. **trainStartTs**: Timestamp of the training start "
   ]
  },
  {
   "cell_type": "markdown",
   "metadata": {},
   "source": [
    "### Extracting Training Results"
   ]
  },
  {
   "cell_type": "code",
   "execution_count": 23,
   "metadata": {},
   "outputs": [
    {
     "name": "stdout",
     "output_type": "stream",
     "text": [
      "<Response [200]>\n",
      "{'resultLocation': 's3://prediction-services/train/model-minimum-config-jupyter_a7ca04f5-4df6-4a91-b432-acf71a56ffe1_2021-02-17-03.51.37.csv',\n",
      " 'runId': 'a7ca04f5-4df6-4a91-b432-acf71a56ffe1',\n",
      " 'status': 'Completed',\n",
      " 'trainEndTs': '2021-02-17T03:52:15.726194',\n",
      " 'trainStartTs': '2021-02-17T03:51:37.107267',\n",
      " 'updateTs': '2021-02-17T03:51:37.017906'}\n",
      "None\n"
     ]
    }
   ],
   "source": [
    "resultResponse = requests.get(Baseurl+\"/trainings/\"+ trainingId,\n",
    "                              auth=(user,password))    \n",
    "print(resultResponse)\n",
    "trainResults = resultResponse.json()\n",
    "print(pprint.pprint(trainResults))"
   ]
  },
  {
   "cell_type": "markdown",
   "metadata": {},
   "source": [
    "#### Training Result Information\n",
    "\n",
    "Paramters Explnation:\n",
    "1. **status** - Status of the training job.\n",
    "2. **resultLocation** - S3 location where training scores will be stored once the training has completed\n"
   ]
  },
  {
   "cell_type": "code",
   "execution_count": 24,
   "metadata": {},
   "outputs": [
    {
     "data": {
      "text/html": [
       "<div>\n",
       "<style scoped>\n",
       "    .dataframe tbody tr th:only-of-type {\n",
       "        vertical-align: middle;\n",
       "    }\n",
       "\n",
       "    .dataframe tbody tr th {\n",
       "        vertical-align: top;\n",
       "    }\n",
       "\n",
       "    .dataframe thead th {\n",
       "        text-align: right;\n",
       "    }\n",
       "</style>\n",
       "<table border=\"1\" class=\"dataframe\">\n",
       "  <thead>\n",
       "    <tr style=\"text-align: right;\">\n",
       "      <th></th>\n",
       "      <th>target_column</th>\n",
       "      <th>train_start_ts</th>\n",
       "      <th>train_end_ts</th>\n",
       "      <th>model</th>\n",
       "      <th>model_params</th>\n",
       "      <th>train_score</th>\n",
       "      <th>test_score</th>\n",
       "      <th>validation_score</th>\n",
       "    </tr>\n",
       "  </thead>\n",
       "  <tbody>\n",
       "    <tr>\n",
       "      <th>0</th>\n",
       "      <td>53511-10483</td>\n",
       "      <td>2021-02-17 03:51:37.069228</td>\n",
       "      <td>2021-02-17 03:51:53.612120</td>\n",
       "      <td>PROPHET</td>\n",
       "      <td>{'parameters': {'growth': 'linear', 'holidays'...</td>\n",
       "      <td>0.068470</td>\n",
       "      <td>0.154862</td>\n",
       "      <td>1.000000</td>\n",
       "    </tr>\n",
       "    <tr>\n",
       "      <th>1</th>\n",
       "      <td>53511-3553</td>\n",
       "      <td>2021-02-17 03:51:37.069228</td>\n",
       "      <td>2021-02-17 03:52:04.359351</td>\n",
       "      <td>PROPHET</td>\n",
       "      <td>{'parameters': {'growth': 'linear', 'holidays'...</td>\n",
       "      <td>1.000000</td>\n",
       "      <td>1.000000</td>\n",
       "      <td>1.000000</td>\n",
       "    </tr>\n",
       "    <tr>\n",
       "      <th>2</th>\n",
       "      <td>53511-3802</td>\n",
       "      <td>2021-02-17 03:51:37.069228</td>\n",
       "      <td>2021-02-17 03:52:09.724905</td>\n",
       "      <td>PROPHET</td>\n",
       "      <td>{'parameters': {'growth': 'linear', 'holidays'...</td>\n",
       "      <td>0.775224</td>\n",
       "      <td>0.611006</td>\n",
       "      <td>0.659785</td>\n",
       "    </tr>\n",
       "    <tr>\n",
       "      <th>3</th>\n",
       "      <td>53511-4773</td>\n",
       "      <td>2021-02-17 03:51:37.069228</td>\n",
       "      <td>2021-02-17 03:52:15.311753</td>\n",
       "      <td>PROPHET</td>\n",
       "      <td>{'parameters': {'growth': 'linear', 'holidays'...</td>\n",
       "      <td>0.249423</td>\n",
       "      <td>0.247317</td>\n",
       "      <td>1.000000</td>\n",
       "    </tr>\n",
       "    <tr>\n",
       "      <th>4</th>\n",
       "      <td>34883-3350</td>\n",
       "      <td>2021-02-17 03:51:37.069228</td>\n",
       "      <td>2021-02-17 03:51:48.232401</td>\n",
       "      <td>PROPHET</td>\n",
       "      <td>{'parameters': {'growth': 'linear', 'holidays'...</td>\n",
       "      <td>0.685172</td>\n",
       "      <td>1.000000</td>\n",
       "      <td>0.259096</td>\n",
       "    </tr>\n",
       "  </tbody>\n",
       "</table>\n",
       "</div>"
      ],
      "text/plain": [
       "  target_column              train_start_ts                train_end_ts  \\\n",
       "0   53511-10483  2021-02-17 03:51:37.069228  2021-02-17 03:51:53.612120   \n",
       "1    53511-3553  2021-02-17 03:51:37.069228  2021-02-17 03:52:04.359351   \n",
       "2    53511-3802  2021-02-17 03:51:37.069228  2021-02-17 03:52:09.724905   \n",
       "3    53511-4773  2021-02-17 03:51:37.069228  2021-02-17 03:52:15.311753   \n",
       "4    34883-3350  2021-02-17 03:51:37.069228  2021-02-17 03:51:48.232401   \n",
       "\n",
       "     model                                       model_params  train_score  \\\n",
       "0  PROPHET  {'parameters': {'growth': 'linear', 'holidays'...     0.068470   \n",
       "1  PROPHET  {'parameters': {'growth': 'linear', 'holidays'...     1.000000   \n",
       "2  PROPHET  {'parameters': {'growth': 'linear', 'holidays'...     0.775224   \n",
       "3  PROPHET  {'parameters': {'growth': 'linear', 'holidays'...     0.249423   \n",
       "4  PROPHET  {'parameters': {'growth': 'linear', 'holidays'...     0.685172   \n",
       "\n",
       "   test_score  validation_score  \n",
       "0    0.154862          1.000000  \n",
       "1    1.000000          1.000000  \n",
       "2    0.611006          0.659785  \n",
       "3    0.247317          1.000000  \n",
       "4    1.000000          0.259096  "
      ]
     },
     "execution_count": 24,
     "metadata": {},
     "output_type": "execute_result"
    }
   ],
   "source": [
    "##TODO: Read in the forecast results and show \n",
    "trainResultLoc = trainResults['resultLocation']\n",
    "##trainResultLoc = 's3://prediction-services/train/model-minimum-config-jupyter_d1fe11ae-27dc-44ca-93aa-9ba367786872_2021-01-29-20.52.29.csv'\n",
    "trainDf = pd.read_csv(trainResultLoc, sep=',', header = 0)\n",
    "trainDf.head()\n",
    "##fhrDf.index = pd.to_datetime(fhrDf.index)\n",
    "##print(tabulate(trainDf, headers='keys', tablefmt='psql'))"
   ]
  },
  {
   "cell_type": "markdown",
   "metadata": {},
   "source": [
    "# Model Tuning and Experimentation"
   ]
  },
  {
   "cell_type": "markdown",
   "metadata": {},
   "source": [
    "#### Hyperparameter Tuning Introduction\n",
    "**Tuning jobs scale by**:\n",
    "1. Scaling up or Vertical Scaling - Parallel or\n",
    "2. Scaling out or Horizontal Scaling - Distributed\n",
    "\n",
    "Univariate models execute independently.  For each server number of models being tuned simultaneously is limited by number of CPUs on the server\n",
    "\n",
    "**Deep Learning Models and Parameter Server**\n",
    "A parameter server typically exists as a remote process or service and interacts with clients through remote procedure calls.\n",
    "\n",
    "Image(filename=images/param-server-arch.jpg)\n",
    "\n",
    "![Parameter Server Architecture](images/param-server-arch.jpg)\n",
    "\n",
    "For hyperparameter tuning a search space of paerameters has to be defined.\n",
    "\n",
    "##### Search Algorithms\n",
    "Search Algorithms are wrappers around open-source optimization libraries for efficient hyperparameter selection.\n",
    "\n",
    "Search Algorithms cannot affect or stop training processes. However, you can use them together to early stop the evaluation of bad trials.\n",
    "\n",
    "1. **Bayesian Optimization**: This constrained global optimization process builds upon bayesian inference and gaussian processes. It attempts to find the maximum value of an unknown function in as few iterations as possible. This is a good technique for optimization of high cost functions.\n",
    "2. **BOHB (Bayesian Optimization HyperBand)**: An algorithm that both terminates bad trials and also uses Bayesian Optimization to improve the hyperparameter search. It is backed by the HpBandSter library. BOHB is intended to be paired with a specific scheduler class: HyperBandForBOHB.\n",
    "3. **HyperOpt**: A Python library for serial and parallel optimization over awkward search spaces, which may include real-valued, discrete, and conditional dimensions.\n",
    "4. **Scikit-Optimize*:\n",
    "5. **Nevergrad**: HPO without computing gradients.\n",
    "\n",
    "\n",
    "##### Schedulers\n",
    "Schedulers are distributed implementations of early-stopping algorithm\n",
    "Schedulers can early terminate bad trials, pause trials, clone trials, and alter hyperparameters of a running trial.\n",
    "\n",
    "1. **Median Stopping Rule**: It applies the simple rule that a trial is aborted if the results are trending below the median of the previous trials.\n",
    "2. **Population Based Training (PBT)** - \n",
    "3. **FIFOScheduler* - Simple scheduler that just runs trials in submission order\n",
    "\n",
    "#### Experiment Execution"
   ]
  },
  {
   "cell_type": "markdown",
   "metadata": {},
   "source": [
    "### Tuning Parameters\n",
    "Dictionary below contains the minimum configuration needed to run a tuning job."
   ]
  },
  {
   "cell_type": "code",
   "execution_count": 5,
   "metadata": {},
   "outputs": [],
   "source": [
    "trainingDict = {\n",
    "        \"training\": {\n",
    "            \"train_task_type\": \"TUNING\",\n",
    "            \"train_name\": \"TUNING-arima-config-jupyter\", \n",
    "            \"target_data_location\": \"s3://prediction-services/data/h0500hn_ft-worth.csv\",\n",
    "            \"train_data_end_dtm\": \"2019-12-01\",  \n",
    "            \"test_data_end_dtm\": \"2020-06-01\",         \n",
    "            \"validation_data_end_dtm\": \"2020-11-01\",\n",
    "            \"model_names\": [\"ARIMA\"] \n",
    "        },\n",
    "        \"models\": {\n",
    "            \"ARIMA\": {\n",
    "            \"model_name\": \"ARIMA\",\n",
    "            \"model_time_interval\": \"M\",\n",
    "            \"hyperparam_alg\": \"GRID-SEARCH\", #RANDOM, BAYESIAN\n",
    "            \"model_config\": {\n",
    "                \"parameters\": {\"p\": [1, 2,3,4,5,6,7], \"d\": [1, 2], \"q\": [0, 1,2]},\n",
    "                \"hyperparameters\": {\"disp\": 0}}\n",
    "            }\n",
    "        }\n",
    "    }\n",
    "response = requests.post(Baseurl+\"/training\", \n",
    "                         auth=(user, password),\n",
    "                         data = json.dumps(trainingDict))  \n",
    "                         #json = trainingDict)\n"
   ]
  },
  {
   "cell_type": "markdown",
   "metadata": {},
   "source": [
    "#### Tuning Configuration Explanation\n",
    "##### Required Parameters\n",
    "1. **train_task_type** = \"TUNING\"\n",
    "    * By default it's set to \"MODEL\"\n",
    "2. **All the parameters mentioned in the training section**\n",
    "\n",
    "##### Optional Parameters\n",
    "1. **hyperparameter_algorithm** -\n"
   ]
  },
  {
   "cell_type": "code",
   "execution_count": 16,
   "metadata": {},
   "outputs": [
    {
     "name": "stdout",
     "output_type": "stream",
     "text": [
      "<Response [422]>\n",
      "{'detail': [{'ctx': {'given': 'TUNING', 'permitted': ['Model', 'Tuning']},\n",
      "             'loc': ['body', 'training', 'train_task_type'],\n",
      "             'msg': \"unexpected value; permitted: 'Model', 'Tuning'\",\n",
      "             'type': 'value_error.const'}]}\n",
      "None\n"
     ]
    },
    {
     "ename": "KeyError",
     "evalue": "'runId'",
     "output_type": "error",
     "traceback": [
      "\u001b[0;31m---------------------------------------------------------------------------\u001b[0m",
      "\u001b[0;31mKeyError\u001b[0m                                  Traceback (most recent call last)",
      "\u001b[0;32m<ipython-input-16-b708aa3479ed>\u001b[0m in \u001b[0;36m<module>\u001b[0;34m\u001b[0m\n\u001b[1;32m      2\u001b[0m \u001b[0mresult\u001b[0m \u001b[0;34m=\u001b[0m \u001b[0mresponse\u001b[0m\u001b[0;34m.\u001b[0m\u001b[0mjson\u001b[0m\u001b[0;34m(\u001b[0m\u001b[0;34m)\u001b[0m\u001b[0;34m\u001b[0m\u001b[0;34m\u001b[0m\u001b[0m\n\u001b[1;32m      3\u001b[0m \u001b[0mprint\u001b[0m\u001b[0;34m(\u001b[0m\u001b[0mpprint\u001b[0m\u001b[0;34m.\u001b[0m\u001b[0mpprint\u001b[0m\u001b[0;34m(\u001b[0m\u001b[0mresult\u001b[0m\u001b[0;34m)\u001b[0m\u001b[0;34m)\u001b[0m\u001b[0;34m\u001b[0m\u001b[0;34m\u001b[0m\u001b[0m\n\u001b[0;32m----> 4\u001b[0;31m \u001b[0mtrainingId\u001b[0m \u001b[0;34m=\u001b[0m \u001b[0mresult\u001b[0m\u001b[0;34m[\u001b[0m\u001b[0;34m'runId'\u001b[0m\u001b[0;34m]\u001b[0m\u001b[0;34m\u001b[0m\u001b[0;34m\u001b[0m\u001b[0m\n\u001b[0m\u001b[1;32m      5\u001b[0m \u001b[0mprint\u001b[0m\u001b[0;34m(\u001b[0m\u001b[0mtrainingId\u001b[0m\u001b[0;34m)\u001b[0m\u001b[0;34m\u001b[0m\u001b[0;34m\u001b[0m\u001b[0m\n",
      "\u001b[0;31mKeyError\u001b[0m: 'runId'"
     ]
    }
   ],
   "source": [
    "print(response)\n",
    "result = response.json()\n",
    "print(pprint.pprint(result))\n",
    "trainingId = result['runId']\n",
    "print(trainingId)\n"
   ]
  },
  {
   "cell_type": "code",
   "execution_count": 5,
   "metadata": {},
   "outputs": [
    {
     "name": "stdout",
     "output_type": "stream",
     "text": [
      "<Response [200]>\n",
      "{'Status': 'Running', 'UpdateTs': 'Tue, 12 Jan 2021 02:17:57 GMT', 'resultLocation': 's3://prediction-services/train/', 'runId': '6b320ef3-917f-4ebf-9b7c-d0fc319ebfdb', 'trainEndTs': None, 'trainStartTs': 'Tue, 12 Jan 2021 02:17:57 GMT'}\n"
     ]
    }
   ],
   "source": [
    "resultResponse = requests.get(Baseurl+\"/trainings/\"+ trainingId,\n",
    "                              auth=(user,password))    \n",
    "print(resultResponse)\n",
    "trainResults = resultResponse.json()\n",
    "print(pprint.pprint(trainResults))"
   ]
  },
  {
   "cell_type": "markdown",
   "metadata": {},
   "source": [
    "# Prediction or Scoring"
   ]
  },
  {
   "cell_type": "markdown",
   "metadata": {},
   "source": [
    "### Scoring Parameters\n",
    "Dictionary below contains the minimum configuration needed to run a scoring job."
   ]
  },
  {
   "cell_type": "code",
   "execution_count": 11,
   "metadata": {},
   "outputs": [],
   "source": [
    "scoringDict = {\n",
    "        \"scoring\": {\n",
    "            \"score_name\": \"score-minimum-config-manager\",\n",
    "            \"target_data_location\": \"s3://prediction-services/data/TrainingInputData_Transformed_Test_Sample_2.csv\",\n",
    "            \"model_names\": [\"ARIMA\", \"HOLTWINTERS\"],\n",
    "            \"prediction_steps\": 12,\n",
    "            \"prediction_count\": 10\n",
    "            \n",
    "        }\n",
    "    }\n",
    "predResponse = requests.post(Baseurl+ \"/predictions\", \n",
    "                         auth=(user, password),\n",
    "                         data = json.dumps(scoringDict))  "
   ]
  },
  {
   "cell_type": "markdown",
   "metadata": {},
   "source": [
    "### Scoring Configuration Explanation\n",
    "#### Required Parameters\n",
    "1. **score_name** - \n",
    "2. **target_data_location** -\n",
    "3. **model_names** -\n",
    "\n",
    "#### Optional Parameters\n",
    "1. **prediction_steps** - \n",
    "2. **prediction_count** - "
   ]
  },
  {
   "cell_type": "code",
   "execution_count": 12,
   "metadata": {
    "scrolled": true
   },
   "outputs": [
    {
     "name": "stdout",
     "output_type": "stream",
     "text": [
      "<Response [200]>\n",
      "{'runId': '29788f02-6acf-4808-945a-71ea43d5af6a', 'status': 'Created'}\n",
      "None\n",
      "29788f02-6acf-4808-945a-71ea43d5af6a\n"
     ]
    }
   ],
   "source": [
    "print(predResponse)\n",
    "predResults = predResponse.json()\n",
    "##print(predResults)\n",
    "print(pprint.pprint(predResults))\n",
    "predId = predResults['runId']\n",
    "print(predId)"
   ]
  },
  {
   "cell_type": "markdown",
   "metadata": {},
   "source": [
    "### Get Prediction Status"
   ]
  },
  {
   "cell_type": "code",
   "execution_count": 26,
   "metadata": {},
   "outputs": [
    {
     "name": "stdout",
     "output_type": "stream",
     "text": [
      "<Response [200]>\n",
      "{'runId': '8e680703-a618-4ea6-bcce-a27f03b6aecc', 'status': 'Completed'}\n",
      "None\n",
      "8e680703-a618-4ea6-bcce-a27f03b6aecc\n"
     ]
    }
   ],
   "source": [
    "predResponse = requests.get(Baseurl+\"/predictions/\"+ predId,\n",
    "                              auth=(user,password))    \n",
    "print(predResponse)\n",
    "predStatus = predResponse.json()\n",
    "print(pprint.pprint(predStatus))\n",
    "predId = predStatus['runId']\n",
    "print(predId)"
   ]
  },
  {
   "cell_type": "markdown",
   "metadata": {},
   "source": [
    "### Fetch Prediction Results"
   ]
  },
  {
   "cell_type": "code",
   "execution_count": 13,
   "metadata": {},
   "outputs": [
    {
     "name": "stdout",
     "output_type": "stream",
     "text": [
      "<Response [200]>\n",
      "{'resultLocation': 's3://prediction-services/score/score-minimum-config-manager_29788f02-6acf-4808-945a-71ea43d5af6a_2021-02-17-15.02.59.csv',\n",
      " 'runId': '29788f02-6acf-4808-945a-71ea43d5af6a',\n",
      " 'scoreEndTs': '2021-02-17T15:03:00.727917',\n",
      " 'scoreStartTs': '2021-02-17T15:02:59.802333',\n",
      " 'status': 'Completed',\n",
      " 'updateTs': '2021-02-17T15:02:59.772462'}\n",
      "None\n",
      "s3://prediction-services/score/score-minimum-config-manager_29788f02-6acf-4808-945a-71ea43d5af6a_2021-02-17-15.02.59.csv\n"
     ]
    }
   ],
   "source": [
    "predResponse = requests.get(Baseurl+\"/predictions/\"+ predId,\n",
    "                              auth=(user,password))    \n",
    "print(predResponse)\n",
    "predResults = predResponse.json()\n",
    "##print(predResults)\n",
    "print(pprint.pprint(predResults))\n",
    "predLoc = predResults[\"resultLocation\"]\n",
    "print(predLoc)"
   ]
  },
  {
   "cell_type": "markdown",
   "metadata": {},
   "source": [
    "### Forecast"
   ]
  },
  {
   "cell_type": "code",
   "execution_count": 14,
   "metadata": {},
   "outputs": [
    {
     "data": {
      "text/html": [
       "<div>\n",
       "<style scoped>\n",
       "    .dataframe tbody tr th:only-of-type {\n",
       "        vertical-align: middle;\n",
       "    }\n",
       "\n",
       "    .dataframe tbody tr th {\n",
       "        vertical-align: top;\n",
       "    }\n",
       "\n",
       "    .dataframe thead th {\n",
       "        text-align: right;\n",
       "    }\n",
       "</style>\n",
       "<table border=\"1\" class=\"dataframe\">\n",
       "  <thead>\n",
       "    <tr style=\"text-align: right;\">\n",
       "      <th></th>\n",
       "      <th>forecast_date</th>\n",
       "      <th>34883-3350</th>\n",
       "      <th>53511-10483</th>\n",
       "      <th>53511-3199</th>\n",
       "      <th>53511-3553</th>\n",
       "      <th>53511-3802</th>\n",
       "      <th>19463-3243</th>\n",
       "      <th>53511-4773</th>\n",
       "    </tr>\n",
       "  </thead>\n",
       "  <tbody>\n",
       "    <tr>\n",
       "      <th>0</th>\n",
       "      <td>2021-04-01</td>\n",
       "      <td>627278.344957</td>\n",
       "      <td>16718.817007</td>\n",
       "      <td>67147.236808</td>\n",
       "      <td>7936.673735</td>\n",
       "      <td>45283.528897</td>\n",
       "      <td>164020.066938</td>\n",
       "      <td>36039.692221</td>\n",
       "    </tr>\n",
       "    <tr>\n",
       "      <th>1</th>\n",
       "      <td>2021-05-01</td>\n",
       "      <td>627718.069081</td>\n",
       "      <td>16422.009309</td>\n",
       "      <td>71096.830707</td>\n",
       "      <td>8664.854207</td>\n",
       "      <td>46432.778264</td>\n",
       "      <td>156884.896005</td>\n",
       "      <td>34939.179289</td>\n",
       "    </tr>\n",
       "    <tr>\n",
       "      <th>2</th>\n",
       "      <td>2021-06-01</td>\n",
       "      <td>628107.962759</td>\n",
       "      <td>16770.018017</td>\n",
       "      <td>72731.297351</td>\n",
       "      <td>8637.896984</td>\n",
       "      <td>47561.653915</td>\n",
       "      <td>163917.820953</td>\n",
       "      <td>35779.524294</td>\n",
       "    </tr>\n",
       "    <tr>\n",
       "      <th>3</th>\n",
       "      <td>2021-07-01</td>\n",
       "      <td>628453.679674</td>\n",
       "      <td>16897.878396</td>\n",
       "      <td>75242.287270</td>\n",
       "      <td>8981.081624</td>\n",
       "      <td>48699.565052</td>\n",
       "      <td>164180.676417</td>\n",
       "      <td>35916.965989</td>\n",
       "    </tr>\n",
       "    <tr>\n",
       "      <th>4</th>\n",
       "      <td>2021-08-01</td>\n",
       "      <td>628760.230593</td>\n",
       "      <td>17100.900148</td>\n",
       "      <td>77421.419384</td>\n",
       "      <td>9142.835778</td>\n",
       "      <td>49833.469065</td>\n",
       "      <td>167678.535456</td>\n",
       "      <td>36308.971942</td>\n",
       "    </tr>\n",
       "  </tbody>\n",
       "</table>\n",
       "</div>"
      ],
      "text/plain": [
       "  forecast_date     34883-3350   53511-10483    53511-3199   53511-3553  \\\n",
       "0    2021-04-01  627278.344957  16718.817007  67147.236808  7936.673735   \n",
       "1    2021-05-01  627718.069081  16422.009309  71096.830707  8664.854207   \n",
       "2    2021-06-01  628107.962759  16770.018017  72731.297351  8637.896984   \n",
       "3    2021-07-01  628453.679674  16897.878396  75242.287270  8981.081624   \n",
       "4    2021-08-01  628760.230593  17100.900148  77421.419384  9142.835778   \n",
       "\n",
       "     53511-3802     19463-3243    53511-4773  \n",
       "0  45283.528897  164020.066938  36039.692221  \n",
       "1  46432.778264  156884.896005  34939.179289  \n",
       "2  47561.653915  163917.820953  35779.524294  \n",
       "3  48699.565052  164180.676417  35916.965989  \n",
       "4  49833.469065  167678.535456  36308.971942  "
      ]
     },
     "execution_count": 14,
     "metadata": {},
     "output_type": "execute_result"
    }
   ],
   "source": [
    "predDf = pd.read_csv(predLoc, sep=',', header = 0)\n",
    "predDf.head()\n",
    "##fhrDf.index = pd.to_datetime(fhrDf.index)\n",
    "##print(tabulate(trainDf, headers='keys', tablefmt='psql'))"
   ]
  },
  {
   "cell_type": "markdown",
   "metadata": {},
   "source": [
    "# Prediction: Using Previously Trained Model"
   ]
  },
  {
   "cell_type": "code",
   "execution_count": 28,
   "metadata": {},
   "outputs": [],
   "source": [
    "scoringDict = {\n",
    "        \"scoring\": {\n",
    "            \"score_name\": \"score-minimum-config-manager\",\n",
    "            \"target_data_location\": \"s3://prediction_services/data/TrainingInputData_Transformed_Test_Sample_2.csv\",\n",
    "            \"model_names\": [\"ARIMA\"],\n",
    "            \"prediction_steps\": 12,\n",
    "            \"prediction_count\": 10,\n",
    "            \"train_run_id\": \"e5ff99ac-e260-49d0-934f-46c46d31f136\"\n",
    "        }\n",
    "    }\n",
    "predResponse = requests.post(Baseurl+ \"/predictions\", \n",
    "                         auth=(user, password),\n",
    "                         data = json.dumps(scoringDict))  "
   ]
  },
  {
   "cell_type": "code",
   "execution_count": 29,
   "metadata": {},
   "outputs": [
    {
     "name": "stdout",
     "output_type": "stream",
     "text": [
      "<Response [200]>\n",
      "{'runId': '20fcd3ab-9f30-4e52-9340-8b48981f1956', 'status': 'Created'}\n",
      "None\n",
      "20fcd3ab-9f30-4e52-9340-8b48981f1956\n"
     ]
    }
   ],
   "source": [
    "print(predResponse)\n",
    "predStatus = predResponse.json()\n",
    "print(pprint.pprint(predStatus))\n",
    "predId = predStatus['runId']\n",
    "print(predId)"
   ]
  },
  {
   "cell_type": "markdown",
   "metadata": {},
   "source": [
    "### Get Prediction Status"
   ]
  },
  {
   "cell_type": "code",
   "execution_count": 31,
   "metadata": {},
   "outputs": [
    {
     "name": "stdout",
     "output_type": "stream",
     "text": [
      "<Response [200]>\n",
      "{'runId': '20fcd3ab-9f30-4e52-9340-8b48981f1956',\n",
      " 'status': 'Failed',\n",
      " 'status_message': 'Failed to write to S3'}\n",
      "None\n",
      "20fcd3ab-9f30-4e52-9340-8b48981f1956\n"
     ]
    }
   ],
   "source": [
    "predResponse = requests.get(Baseurl+\"/predictions/\"+ predId,\n",
    "                              auth=(user,password))    \n",
    "print(predResponse)\n",
    "predStatus = predResponse.json()\n",
    "print(pprint.pprint(predStatus))\n",
    "predId = predStatus['runId']\n",
    "print(predId)"
   ]
  },
  {
   "cell_type": "markdown",
   "metadata": {},
   "source": [
    "### Fetch Prediction Results"
   ]
  },
  {
   "cell_type": "code",
   "execution_count": 32,
   "metadata": {},
   "outputs": [
    {
     "name": "stdout",
     "output_type": "stream",
     "text": [
      "<Response [200]>\n",
      "{'resultLocation': 's3://prediction-services/score/',\n",
      " 'runId': '20fcd3ab-9f30-4e52-9340-8b48981f1956',\n",
      " 'scoreEndTs': '2021-02-17T03:57:54.286754',\n",
      " 'scoreStartTs': '2021-02-17T03:57:54.109345',\n",
      " 'status': 'Failed',\n",
      " 'status_message': 'Failed to write to S3',\n",
      " 'updateTs': '2021-02-17T03:57:54.028922'}\n",
      "None\n"
     ]
    }
   ],
   "source": [
    "predResponse = requests.get(Baseurl+\"/predictions/\"+ predId,\n",
    "                              auth=(user,password))    \n",
    "print(predResponse)\n",
    "predResults = predResponse.json()\n",
    "print(pprint.pprint(predResults))"
   ]
  },
  {
   "cell_type": "code",
   "execution_count": null,
   "metadata": {},
   "outputs": [],
   "source": []
  }
 ],
 "metadata": {
  "kernelspec": {
   "display_name": "Python 3",
   "language": "python",
   "name": "python3"
  },
  "language_info": {
   "codemirror_mode": {
    "name": "ipython",
    "version": 3
   },
   "file_extension": ".py",
   "mimetype": "text/x-python",
   "name": "python",
   "nbconvert_exporter": "python",
   "pygments_lexer": "ipython3",
   "version": "3.8.6"
  }
 },
 "nbformat": 4,
 "nbformat_minor": 4
}
