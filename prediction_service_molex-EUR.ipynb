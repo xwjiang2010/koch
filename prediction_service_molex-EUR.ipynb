{
 "cells": [
  {
   "cell_type": "code",
   "execution_count": 10,
   "metadata": {},
   "outputs": [],
   "source": [
    "import requests\n",
    "import json\n",
    "from pprint import pprint\n",
    "import pandas as pd\n",
    "from tabulate import tabulate\n",
    "import pprint"
   ]
  },
  {
   "cell_type": "code",
   "execution_count": 11,
   "metadata": {},
   "outputs": [],
   "source": [
    "use_cols = ['Material_ID','Customer','Cal_year_month', 'Gross_Bookings_Qty_CRD']\n",
    "dtype= {'Material_ID':str,'Customer':str}"
   ]
  },
  {
   "cell_type": "code",
   "execution_count": 4,
   "metadata": {},
   "outputs": [
    {
     "data": {
      "text/plain": [
       "'s3://kbs-prediction-service-molex/EUR/monthly_agg_SKU_CUST_EUR.csv'"
      ]
     },
     "execution_count": 4,
     "metadata": {},
     "output_type": "execute_result"
    }
   ],
   "source": [
    "bas_s3_pth = 's3://kbs-prediction-service-molex/EUR/'\n",
    "file_name='monthly_agg_SKU_CUST_EUR.csv'\n",
    "f'{bas_s3_pth}{file_name}'"
   ]
  },
  {
   "cell_type": "code",
   "execution_count": 4,
   "metadata": {},
   "outputs": [
    {
     "data": {
      "text/html": [
       "<div>\n",
       "<style scoped>\n",
       "    .dataframe tbody tr th:only-of-type {\n",
       "        vertical-align: middle;\n",
       "    }\n",
       "\n",
       "    .dataframe tbody tr th {\n",
       "        vertical-align: top;\n",
       "    }\n",
       "\n",
       "    .dataframe thead th {\n",
       "        text-align: right;\n",
       "    }\n",
       "</style>\n",
       "<table border=\"1\" class=\"dataframe\">\n",
       "  <thead>\n",
       "    <tr style=\"text-align: right;\">\n",
       "      <th></th>\n",
       "      <th>Material_ID</th>\n",
       "      <th>Customer</th>\n",
       "      <th>Date</th>\n",
       "      <th>Gross_Bookings_Qty_CRD</th>\n",
       "    </tr>\n",
       "  </thead>\n",
       "  <tbody>\n",
       "    <tr>\n",
       "      <th>354290</th>\n",
       "      <td>989974111</td>\n",
       "      <td>159961</td>\n",
       "      <td>2020-09-01</td>\n",
       "      <td>3240.0</td>\n",
       "    </tr>\n",
       "    <tr>\n",
       "      <th>354291</th>\n",
       "      <td>989974111</td>\n",
       "      <td>159961</td>\n",
       "      <td>2020-10-01</td>\n",
       "      <td>2200.0</td>\n",
       "    </tr>\n",
       "    <tr>\n",
       "      <th>354292</th>\n",
       "      <td>989974111</td>\n",
       "      <td>159961</td>\n",
       "      <td>2020-11-01</td>\n",
       "      <td>1240.0</td>\n",
       "    </tr>\n",
       "    <tr>\n",
       "      <th>354293</th>\n",
       "      <td>989974111</td>\n",
       "      <td>159961</td>\n",
       "      <td>2020-12-01</td>\n",
       "      <td>3360.0</td>\n",
       "    </tr>\n",
       "    <tr>\n",
       "      <th>354294</th>\n",
       "      <td>989974111</td>\n",
       "      <td>159961</td>\n",
       "      <td>2021-01-01</td>\n",
       "      <td>1680.0</td>\n",
       "    </tr>\n",
       "  </tbody>\n",
       "</table>\n",
       "</div>"
      ],
      "text/plain": [
       "       Material_ID Customer       Date  Gross_Bookings_Qty_CRD\n",
       "354290   989974111   159961 2020-09-01                  3240.0\n",
       "354291   989974111   159961 2020-10-01                  2200.0\n",
       "354292   989974111   159961 2020-11-01                  1240.0\n",
       "354293   989974111   159961 2020-12-01                  3360.0\n",
       "354294   989974111   159961 2021-01-01                  1680.0"
      ]
     },
     "execution_count": 4,
     "metadata": {},
     "output_type": "execute_result"
    }
   ],
   "source": [
    "raw_dat = pd.read_csv(f'{bas_s3_pth}{file_name}', \n",
    "                      parse_dates=['Cal_year_month'], usecols=use_cols, dtype=dtype)\n",
    "raw_dat.rename(columns={'Cal_year_month':'Date'}, inplace=True)\n",
    "raw_dat.tail()"
   ]
  },
  {
   "cell_type": "code",
   "execution_count": 5,
   "metadata": {},
   "outputs": [],
   "source": [
    "raw_dat['index'] = raw_dat[['Material_ID','Customer']].apply(lambda x: '-'.join(x),axis=1)"
   ]
  },
  {
   "cell_type": "code",
   "execution_count": 6,
   "metadata": {},
   "outputs": [],
   "source": [
    "proc_dat = raw_dat.groupby(['index', 'Date']).sum().unstack([0]).fillna(0)"
   ]
  },
  {
   "cell_type": "code",
   "execution_count": 7,
   "metadata": {},
   "outputs": [],
   "source": [
    "proc_dat.columns = proc_dat.columns.droplevel([0])\n",
    "proc_dat.columns.name =None"
   ]
  },
  {
   "cell_type": "code",
   "execution_count": 8,
   "metadata": {},
   "outputs": [],
   "source": [
    "mask = proc_dat.apply(lambda x: sum(x!=0)>5, axis=0)"
   ]
  },
  {
   "cell_type": "code",
   "execution_count": 9,
   "metadata": {},
   "outputs": [],
   "source": [
    "select_cols = proc_dat.columns[mask]"
   ]
  },
  {
   "cell_type": "code",
   "execution_count": 10,
   "metadata": {},
   "outputs": [],
   "source": [
    "proc_dat_fltr = proc_dat.loc[:,select_cols]"
   ]
  },
  {
   "cell_type": "code",
   "execution_count": 11,
   "metadata": {},
   "outputs": [
    {
     "data": {
      "text/plain": [
       "((97, 9033), (97, 17531))"
      ]
     },
     "execution_count": 11,
     "metadata": {},
     "output_type": "execute_result"
    }
   ],
   "source": [
    "proc_dat_fltr.shape, proc_dat.shape"
   ]
  },
  {
   "cell_type": "code",
   "execution_count": 53,
   "metadata": {},
   "outputs": [],
   "source": [
    "# proc_dat_fltr.tail()"
   ]
  },
  {
   "cell_type": "code",
   "execution_count": 12,
   "metadata": {},
   "outputs": [
    {
     "data": {
      "text/plain": [
       "'s3://kbs-prediction-service-molex/EUR/proc_SKU_CUST_EUR_fltr.csv'"
      ]
     },
     "execution_count": 12,
     "metadata": {},
     "output_type": "execute_result"
    }
   ],
   "source": [
    "sav_pth = f'{bas_s3_pth}proc_SKU_CUST_EUR_fltr.csv'\n",
    "##proc_dat_fltr.to_csv(sav_pth)\n",
    "sav_pth"
   ]
  },
  {
   "cell_type": "markdown",
   "metadata": {},
   "source": [
    "# Setup"
   ]
  },
  {
   "cell_type": "code",
   "execution_count": 13,
   "metadata": {},
   "outputs": [],
   "source": [
    "Baseurl = 'https://kgsa-dev.kochcloud.com'\n",
    "Baseurl2 = 'https://kgsa-dev.kochcloud.com/badrul'\n",
    "user = 'bibin'\n",
    "password = \"3$7AdE9OIJ6M1X*QUfuhD\""
   ]
  },
  {
   "cell_type": "code",
   "execution_count": 14,
   "metadata": {},
   "outputs": [
    {
     "data": {
      "text/html": [
       "<div>\n",
       "<style scoped>\n",
       "    .dataframe tbody tr th:only-of-type {\n",
       "        vertical-align: middle;\n",
       "    }\n",
       "\n",
       "    .dataframe tbody tr th {\n",
       "        vertical-align: top;\n",
       "    }\n",
       "\n",
       "    .dataframe thead th {\n",
       "        text-align: right;\n",
       "    }\n",
       "</style>\n",
       "<table border=\"1\" class=\"dataframe\">\n",
       "  <thead>\n",
       "    <tr style=\"text-align: right;\">\n",
       "      <th></th>\n",
       "      <th>1041330227-164620</th>\n",
       "      <th>1041340221-164620</th>\n",
       "      <th>1110141230-168170</th>\n",
       "      <th>1480120002-126227</th>\n",
       "      <th>1480120003-126227</th>\n",
       "      <th>1480130002-126227</th>\n",
       "      <th>1480131000-126227</th>\n",
       "      <th>1480170003-126227</th>\n",
       "      <th>1480170004-126227</th>\n",
       "      <th>1480210002-170285</th>\n",
       "      <th>...</th>\n",
       "      <th>989952029-130203</th>\n",
       "      <th>989952029-147125</th>\n",
       "      <th>989952029-155064</th>\n",
       "      <th>989952029-162126</th>\n",
       "      <th>989971002-101011</th>\n",
       "      <th>989971002-101270</th>\n",
       "      <th>989971002-102223</th>\n",
       "      <th>989971002-102440</th>\n",
       "      <th>989971002-103679</th>\n",
       "      <th>989974111-159961</th>\n",
       "    </tr>\n",
       "    <tr>\n",
       "      <th>Date</th>\n",
       "      <th></th>\n",
       "      <th></th>\n",
       "      <th></th>\n",
       "      <th></th>\n",
       "      <th></th>\n",
       "      <th></th>\n",
       "      <th></th>\n",
       "      <th></th>\n",
       "      <th></th>\n",
       "      <th></th>\n",
       "      <th></th>\n",
       "      <th></th>\n",
       "      <th></th>\n",
       "      <th></th>\n",
       "      <th></th>\n",
       "      <th></th>\n",
       "      <th></th>\n",
       "      <th></th>\n",
       "      <th></th>\n",
       "      <th></th>\n",
       "      <th></th>\n",
       "    </tr>\n",
       "  </thead>\n",
       "  <tbody>\n",
       "    <tr>\n",
       "      <th>2013-01-01</th>\n",
       "      <td>0.0</td>\n",
       "      <td>0.0</td>\n",
       "      <td>0.0</td>\n",
       "      <td>0.0</td>\n",
       "      <td>0.0</td>\n",
       "      <td>0.0</td>\n",
       "      <td>0.0</td>\n",
       "      <td>0.0</td>\n",
       "      <td>0.0</td>\n",
       "      <td>0.0</td>\n",
       "      <td>...</td>\n",
       "      <td>0.0</td>\n",
       "      <td>0.0</td>\n",
       "      <td>0.0</td>\n",
       "      <td>0.0</td>\n",
       "      <td>0.0</td>\n",
       "      <td>0.0</td>\n",
       "      <td>0.0</td>\n",
       "      <td>0.0</td>\n",
       "      <td>0.0</td>\n",
       "      <td>0.0</td>\n",
       "    </tr>\n",
       "    <tr>\n",
       "      <th>2013-02-01</th>\n",
       "      <td>0.0</td>\n",
       "      <td>0.0</td>\n",
       "      <td>0.0</td>\n",
       "      <td>0.0</td>\n",
       "      <td>0.0</td>\n",
       "      <td>0.0</td>\n",
       "      <td>0.0</td>\n",
       "      <td>0.0</td>\n",
       "      <td>0.0</td>\n",
       "      <td>0.0</td>\n",
       "      <td>...</td>\n",
       "      <td>0.0</td>\n",
       "      <td>0.0</td>\n",
       "      <td>0.0</td>\n",
       "      <td>0.0</td>\n",
       "      <td>0.0</td>\n",
       "      <td>0.0</td>\n",
       "      <td>0.0</td>\n",
       "      <td>0.0</td>\n",
       "      <td>0.0</td>\n",
       "      <td>0.0</td>\n",
       "    </tr>\n",
       "    <tr>\n",
       "      <th>2013-03-01</th>\n",
       "      <td>0.0</td>\n",
       "      <td>0.0</td>\n",
       "      <td>0.0</td>\n",
       "      <td>0.0</td>\n",
       "      <td>0.0</td>\n",
       "      <td>0.0</td>\n",
       "      <td>0.0</td>\n",
       "      <td>0.0</td>\n",
       "      <td>0.0</td>\n",
       "      <td>0.0</td>\n",
       "      <td>...</td>\n",
       "      <td>0.0</td>\n",
       "      <td>0.0</td>\n",
       "      <td>0.0</td>\n",
       "      <td>0.0</td>\n",
       "      <td>0.0</td>\n",
       "      <td>0.0</td>\n",
       "      <td>0.0</td>\n",
       "      <td>0.0</td>\n",
       "      <td>480.0</td>\n",
       "      <td>0.0</td>\n",
       "    </tr>\n",
       "    <tr>\n",
       "      <th>2013-04-01</th>\n",
       "      <td>0.0</td>\n",
       "      <td>0.0</td>\n",
       "      <td>0.0</td>\n",
       "      <td>0.0</td>\n",
       "      <td>0.0</td>\n",
       "      <td>0.0</td>\n",
       "      <td>0.0</td>\n",
       "      <td>0.0</td>\n",
       "      <td>0.0</td>\n",
       "      <td>0.0</td>\n",
       "      <td>...</td>\n",
       "      <td>0.0</td>\n",
       "      <td>0.0</td>\n",
       "      <td>0.0</td>\n",
       "      <td>0.0</td>\n",
       "      <td>0.0</td>\n",
       "      <td>0.0</td>\n",
       "      <td>0.0</td>\n",
       "      <td>0.0</td>\n",
       "      <td>0.0</td>\n",
       "      <td>0.0</td>\n",
       "    </tr>\n",
       "    <tr>\n",
       "      <th>2013-05-01</th>\n",
       "      <td>0.0</td>\n",
       "      <td>0.0</td>\n",
       "      <td>0.0</td>\n",
       "      <td>0.0</td>\n",
       "      <td>0.0</td>\n",
       "      <td>0.0</td>\n",
       "      <td>0.0</td>\n",
       "      <td>0.0</td>\n",
       "      <td>0.0</td>\n",
       "      <td>0.0</td>\n",
       "      <td>...</td>\n",
       "      <td>0.0</td>\n",
       "      <td>0.0</td>\n",
       "      <td>0.0</td>\n",
       "      <td>0.0</td>\n",
       "      <td>0.0</td>\n",
       "      <td>0.0</td>\n",
       "      <td>0.0</td>\n",
       "      <td>0.0</td>\n",
       "      <td>0.0</td>\n",
       "      <td>0.0</td>\n",
       "    </tr>\n",
       "  </tbody>\n",
       "</table>\n",
       "<p>5 rows × 9033 columns</p>\n",
       "</div>"
      ],
      "text/plain": [
       "            1041330227-164620  1041340221-164620  1110141230-168170  \\\n",
       "Date                                                                  \n",
       "2013-01-01                0.0                0.0                0.0   \n",
       "2013-02-01                0.0                0.0                0.0   \n",
       "2013-03-01                0.0                0.0                0.0   \n",
       "2013-04-01                0.0                0.0                0.0   \n",
       "2013-05-01                0.0                0.0                0.0   \n",
       "\n",
       "            1480120002-126227  1480120003-126227  1480130002-126227  \\\n",
       "Date                                                                  \n",
       "2013-01-01                0.0                0.0                0.0   \n",
       "2013-02-01                0.0                0.0                0.0   \n",
       "2013-03-01                0.0                0.0                0.0   \n",
       "2013-04-01                0.0                0.0                0.0   \n",
       "2013-05-01                0.0                0.0                0.0   \n",
       "\n",
       "            1480131000-126227  1480170003-126227  1480170004-126227  \\\n",
       "Date                                                                  \n",
       "2013-01-01                0.0                0.0                0.0   \n",
       "2013-02-01                0.0                0.0                0.0   \n",
       "2013-03-01                0.0                0.0                0.0   \n",
       "2013-04-01                0.0                0.0                0.0   \n",
       "2013-05-01                0.0                0.0                0.0   \n",
       "\n",
       "            1480210002-170285  ...  989952029-130203  989952029-147125  \\\n",
       "Date                           ...                                       \n",
       "2013-01-01                0.0  ...               0.0               0.0   \n",
       "2013-02-01                0.0  ...               0.0               0.0   \n",
       "2013-03-01                0.0  ...               0.0               0.0   \n",
       "2013-04-01                0.0  ...               0.0               0.0   \n",
       "2013-05-01                0.0  ...               0.0               0.0   \n",
       "\n",
       "            989952029-155064  989952029-162126  989971002-101011  \\\n",
       "Date                                                               \n",
       "2013-01-01               0.0               0.0               0.0   \n",
       "2013-02-01               0.0               0.0               0.0   \n",
       "2013-03-01               0.0               0.0               0.0   \n",
       "2013-04-01               0.0               0.0               0.0   \n",
       "2013-05-01               0.0               0.0               0.0   \n",
       "\n",
       "            989971002-101270  989971002-102223  989971002-102440  \\\n",
       "Date                                                               \n",
       "2013-01-01               0.0               0.0               0.0   \n",
       "2013-02-01               0.0               0.0               0.0   \n",
       "2013-03-01               0.0               0.0               0.0   \n",
       "2013-04-01               0.0               0.0               0.0   \n",
       "2013-05-01               0.0               0.0               0.0   \n",
       "\n",
       "            989971002-103679  989974111-159961  \n",
       "Date                                            \n",
       "2013-01-01               0.0               0.0  \n",
       "2013-02-01               0.0               0.0  \n",
       "2013-03-01             480.0               0.0  \n",
       "2013-04-01               0.0               0.0  \n",
       "2013-05-01               0.0               0.0  \n",
       "\n",
       "[5 rows x 9033 columns]"
      ]
     },
     "execution_count": 14,
     "metadata": {},
     "output_type": "execute_result"
    }
   ],
   "source": [
    "## TODO: Read in the data and show the head\n",
    "fhrDf = pd.read_csv(sav_pth, sep=',', header = 0, index_col = 0)\n",
    "fhrDf.index = pd.to_datetime(fhrDf.index)\n",
    "fhrDf.head()"
   ]
  },
  {
   "cell_type": "markdown",
   "metadata": {},
   "source": [
    "### Training Parameters\n",
    "Dictionary below contains the minimum configuration needed to run a training job."
   ]
  },
  {
   "cell_type": "code",
   "execution_count": 7,
   "metadata": {},
   "outputs": [
    {
     "data": {
      "text/plain": [
       "{'master': {'exec_environment': 'Sequential',\n",
       "  'data_storage_type': 's3',\n",
       "  'data_file_type': 'csv'},\n",
       " 'training': {'train_name': 'molex-EUROPE-subset-trial',\n",
       "  'train_description': 'Molex EUROPE data training for ARIMA, HOLT, and PROPHET',\n",
       "  'train_task_type': 'Model',\n",
       "  'train_job_type': 'Single-Target',\n",
       "  'target_data_location': 's3://kbs-prediction-service-molex/EUR/proc_SKU_CUST_EUR_fltr.csv',\n",
       "  'feature_data_location': '',\n",
       "  'score_data_location': 's3://kbs-prediction-service-molex/EUR/results/',\n",
       "  'model_version': 'pred-manager-molex-test',\n",
       "  'data_version': 'v1.0',\n",
       "  'loss_function': 'MAPE',\n",
       "  'train_data_end_dtm': '2020-04-01',\n",
       "  'test_data_end_dtm': '2020-07-01',\n",
       "  'validation_data_end_dtm': '2021-01-01',\n",
       "  'model_location': 's3://kbs-prediction-service-molex/EUR/model/',\n",
       "  'time_interval': 'M',\n",
       "  'model_names': ['ARIMA', 'HOLTWINTERS', 'PROPHET']}}"
      ]
     },
     "execution_count": 7,
     "metadata": {},
     "output_type": "execute_result"
    }
   ],
   "source": [
    "trainingDict = {\n",
    "    \"master\": {\n",
    "    \"exec_environment\": \"Sequential\",\n",
    "    \"data_storage_type\": \"s3\",\n",
    "    \"data_file_type\": \"csv\",\n",
    "    },\n",
    "    \n",
    "    \"training\": {\n",
    "    \"train_name\": \"molex-EUROPE-subset-trial\",\n",
    "    \"train_description\": \"Molex EUROPE data training for ARIMA, HOLT, and PROPHET\",\n",
    "    \"train_task_type\": \"Model\",\n",
    "    \"train_job_type\": \"Single-Target\",\n",
    "    \"target_data_location\": f\"{sav_pth}\",\n",
    "    \"feature_data_location\": \"\",\n",
    "    \"score_data_location\": f\"{bas_s3_pth}results/\",\n",
    "    \"model_version\": \"pred-manager-molex-test\",\n",
    "    \"data_version\": \"v1.0\",\n",
    "    \"loss_function\": \"MAPE\",\n",
    "    \"train_data_end_dtm\": \"2020-04-01\",\n",
    "    \"test_data_end_dtm\": \"2020-07-01\",\n",
    "    \"validation_data_end_dtm\": \"2021-01-01\",\n",
    "    \"model_location\": f\"{bas_s3_pth}model/\",\n",
    "    \"time_interval\": \"M\",\n",
    "    \"model_names\": [\"ARIMA\", \"HOLTWINTERS\", \"PROPHET\"],\n",
    "    }\n",
    "}\n",
    "\n",
    "trainingDict"
   ]
  },
  {
   "cell_type": "markdown",
   "metadata": {},
   "source": [
    "### Executing training job"
   ]
  },
  {
   "cell_type": "code",
   "execution_count": 8,
   "metadata": {},
   "outputs": [],
   "source": [
    "response = requests.post(Baseurl2+\"/training\", \n",
    "                         auth=(user, password),\n",
    "#                          data = json.dumps(trainingDict))  \n",
    "                         json = trainingDict)"
   ]
  },
  {
   "cell_type": "code",
   "execution_count": 9,
   "metadata": {},
   "outputs": [
    {
     "name": "stdout",
     "output_type": "stream",
     "text": [
      "<Response [200]>\n",
      "{'runId': '36c65a6c-3626-410b-88e1-4c1b8a704e3d', 'status': 'Submitted'}\n",
      "None\n",
      "36c65a6c-3626-410b-88e1-4c1b8a704e3d\n"
     ]
    }
   ],
   "source": [
    "print(response)\n",
    "result = response.json()\n",
    "print(pprint.pprint(result))\n",
    "trainingId = result['runId']\n",
    "print(trainingId)"
   ]
  },
  {
   "cell_type": "markdown",
   "metadata": {},
   "source": [
    "### Result of Training"
   ]
  },
  {
   "cell_type": "code",
   "execution_count": 19,
   "metadata": {},
   "outputs": [
    {
     "name": "stdout",
     "output_type": "stream",
     "text": [
      "<Response [200]>\n"
     ]
    }
   ],
   "source": [
    "status_response = requests.get(Baseurl+\"/trainings/\" + trainingId,\n",
    "                              auth=(user,password))    \n",
    "print(status_response)"
   ]
  },
  {
   "cell_type": "code",
   "execution_count": 20,
   "metadata": {},
   "outputs": [
    {
     "name": "stdout",
     "output_type": "stream",
     "text": [
      "{'runId': '6aa1e5f1-e41f-4d10-9076-ce24352b120e',\n",
      " 'status': 'Running',\n",
      " 'trainStartTs': '2021-02-22T19:12:21.326114',\n",
      " 'updateTs': '2021-02-22T19:11:30.814429'}\n",
      "None\n"
     ]
    }
   ],
   "source": [
    "trainingStatus = status_response.json()\n",
    "print(pprint.pprint(trainingStatus))"
   ]
  },
  {
   "cell_type": "markdown",
   "metadata": {},
   "source": [
    "# Tuning Parameters\n",
    "Dictionary below contains the minimum configuration needed to run a tuning job."
   ]
  },
  {
   "cell_type": "code",
   "execution_count": 22,
   "metadata": {},
   "outputs": [
    {
     "data": {
      "text/plain": [
       "{'master': {'exec_environment': 'Distributed',\n",
       "  'data_storage_type': 's3',\n",
       "  'data_file_type': 'csv'},\n",
       " 'training': {'train_task_type': 'Tuning',\n",
       "  'train_name': 'modlex-EUROPE-TUNING',\n",
       "  'train_description': 'Molex APS data training for ARIMA, HOLT, and PROPHET',\n",
       "  'train_job_type': 'Single-Target',\n",
       "  'target_data_location': 's3://kbs-prediction-service-molex/EUR/proc_SKU_CUST_EUR_fltr.csv',\n",
       "  'feature_data_location': '',\n",
       "  'score_data_location': 's3://kbs-prediction-service-molex/EUR/results',\n",
       "  'model_version': 'pred-manager-molex-test',\n",
       "  'data_version': 'v1.0',\n",
       "  'loss_function': 'MAPE',\n",
       "  'train_data_end_dtm': '2020-04-01',\n",
       "  'test_data_end_dtm': '2020-07-01',\n",
       "  'validation_data_end_dtm': '2021-01-01',\n",
       "  'model_location': 's3://kbs-prediction-service-molex/EUR/model/',\n",
       "  'time_interval': 'M',\n",
       "  'model_names': ['ARIMA', 'HOLTWINTERS', 'PROPHET']},\n",
       " 'models': {'ARIMA': {'model_name': 'ARIMA',\n",
       "   'model_time_interval': 'M',\n",
       "   'hyperparam_alg': 'GRID-SEARCH',\n",
       "   'model_config': {'parameters': {'p': [0, 1, 2, 3, 4, 5, 6],\n",
       "     'd': [0, 1, 2, 3, 4, 5, 6],\n",
       "     'q': [0, 1, 2, 3, 4, 5, 6]},\n",
       "    'hyperparameters': {'disp': 0}}},\n",
       "  'HOLTWINTERS': {'model_name': 'HOLTWINTERS',\n",
       "   'model_config': {'parameters': {'trend': ['add', 'mul'],\n",
       "     'damped': [True, False],\n",
       "     'seasonal_periods': [2, 3, 4, 6, 12],\n",
       "     'seasonal': [None]},\n",
       "    'hyperparameters': {'smoothing_level': [0.1, 0.2, 0.4, 0.8]}}},\n",
       "  'PROPHET': {'model_name': 'PROPHET',\n",
       "   'model_config': {'parameters': {'growth': ['linear'],\n",
       "     'changepoints': [None],\n",
       "     'n_changepoints': [20, 21, 22],\n",
       "     'changepoint_range': [0.8, 0.9],\n",
       "     'changepoint_prior_scale': [0.05, 0.1],\n",
       "     'yearly_seasonality': ['auto'],\n",
       "     'weekly_seasonality': ['auto'],\n",
       "     'daily_seasonality': ['auto'],\n",
       "     'holidays': [None],\n",
       "     'seasonality_mode': ['additive', 'multiplicative'],\n",
       "     'seasonality_prior_scale': [10.0],\n",
       "     'holidays_prior_scale': [10.0],\n",
       "     'interval_width': [0.8],\n",
       "     'uncertainty_samples': [200]}}}}}"
      ]
     },
     "execution_count": 22,
     "metadata": {},
     "output_type": "execute_result"
    }
   ],
   "source": [
    "tuningDict = {\n",
    "    \"master\": {\n",
    "    \"exec_environment\": \"Distributed\",\n",
    "    \"data_storage_type\": \"s3\",\n",
    "    \"data_file_type\": \"csv\",\n",
    "    },\n",
    "    \n",
    "    \"training\": {\n",
    "        \"train_task_type\": \"Tuning\",\n",
    "        \"train_name\": \"modlex-EUROPE-TUNING\",\n",
    "        \"train_description\": \"Molex APS data training for ARIMA, HOLT, and PROPHET\",    \n",
    "        \"train_job_type\": \"Single-Target\",\n",
    "        \"target_data_location\": f\"{sav_pth}\",\n",
    "        \"feature_data_location\": \"\",\n",
    "        \"score_data_location\": f\"{bas_s3_pth}results\",\n",
    "        \"model_version\": \"pred-manager-molex-test\",\n",
    "        \"data_version\": \"v1.0\",\n",
    "        \"loss_function\": \"MAPE\",\n",
    "        \"train_data_end_dtm\": \"2020-04-01\",\n",
    "        \"test_data_end_dtm\": \"2020-07-01\",\n",
    "        \"validation_data_end_dtm\": \"2021-01-01\",\n",
    "        \"model_location\": f\"{bas_s3_pth}model/\",\n",
    "        \"time_interval\": \"M\",\n",
    "        \"model_names\": [\"ARIMA\", \"HOLTWINTERS\", \"PROPHET\"],\n",
    "    },\n",
    "    \"models\": {\n",
    "        \"ARIMA\": {\n",
    "        \"model_name\": \"ARIMA\",\n",
    "        \"model_time_interval\": \"M\",\n",
    "        \"hyperparam_alg\": \"GRID-SEARCH\",\n",
    "        \"model_config\": {\n",
    "            \"parameters\": {\"p\": [0,1,2,3,4,5,6], \"d\": [0,1,2,3,4,5,6], \"q\": [0,1,2,3,4,5,6]},\n",
    "            \"hyperparameters\": {\"disp\": 0}}\n",
    "        },\n",
    "        'HOLTWINTERS': {\n",
    "            \"model_name\": \"HOLTWINTERS\",\n",
    "            \"model_config\": {\n",
    "                'parameters':{\n",
    "                    'trend': ['add','mul'],\n",
    "                    'damped': [True, False],\n",
    "                    'seasonal_periods':[2,3,4,6,12],\n",
    "                    'seasonal':[None]\n",
    "                },\n",
    "                \"hyperparameters\": {\n",
    "                    'smoothing_level':[0.1, 0.2, 0.4, 0.8]\n",
    "                }\n",
    "            }\n",
    "        },\n",
    "        'PROPHET': {\n",
    "            \"model_name\": \"PROPHET\",\n",
    "            \"model_config\":{\n",
    "                'parameters':{\n",
    "                    'growth':['linear'],\n",
    "                    'changepoints': [None],\n",
    "                    'n_changepoints': [20, 21, 22],\n",
    "                    'changepoint_range': [0.8, 0.9],\n",
    "                    'changepoint_prior_scale': [0.05, 0.1],\n",
    "                    'yearly_seasonality': ['auto'],\n",
    "                    'weekly_seasonality': ['auto'],\n",
    "                    'daily_seasonality': ['auto'],\n",
    "                    'holidays': [None],\n",
    "                    'seasonality_mode': ['additive','multiplicative'],\n",
    "                    'seasonality_prior_scale': [10.0],\n",
    "                    'holidays_prior_scale': [10.0],\n",
    "                    'interval_width': [0.8],\n",
    "                    'uncertainty_samples': [200]\n",
    "                }\n",
    "            }\n",
    "        }\n",
    "    }\n",
    "}\n",
    "\n",
    "tuningDict"
   ]
  },
  {
   "cell_type": "code",
   "execution_count": 19,
   "metadata": {},
   "outputs": [],
   "source": [
    "Baseurl2 = 'https://kgsa-dev.kochcloud.com/badrul' ##/badrul'\n",
    "user = 'bibin'\n",
    "password = \"3$7AdE9OIJ6M1X*QUfuhD\""
   ]
  },
  {
   "cell_type": "code",
   "execution_count": 20,
   "metadata": {},
   "outputs": [],
   "source": [
    "response = requests.post(Baseurl+\"/training\", \n",
    "                         auth=(user, password),\n",
    "                         data = json.dumps(tuningDict))  \n",
    "                         #json = trainingDict)"
   ]
  },
  {
   "cell_type": "code",
   "execution_count": 21,
   "metadata": {},
   "outputs": [
    {
     "name": "stdout",
     "output_type": "stream",
     "text": [
      "<Response [200]>\n",
      "{\"runId\":\"3d8cfe67-e194-4528-9e18-2f17949270a7\",\"status\":\"Submitted\"}\n"
     ]
    }
   ],
   "source": [
    "print(response)\n",
    "##result = response.json()\n",
    "##print(pprint.pprint(result))\n",
    "##trainingId = result['runId']\n",
    "##print(trainingId)\n",
    "print(response.text)"
   ]
  },
  {
   "cell_type": "code",
   "execution_count": 54,
   "metadata": {},
   "outputs": [
    {
     "name": "stdout",
     "output_type": "stream",
     "text": [
      "<Response [200]>\n",
      "{'resultLocation': 's3://kbs-prediction-service-molex/EUR/results/',\n",
      " 'runId': '2d871cce-70c3-4da8-8a4e-41b5bf1c7782',\n",
      " 'status': 'Submitted',\n",
      " 'trainEndTs': None,\n",
      " 'trainStartTs': '2021-02-22T19:55:39.015731',\n",
      " 'updateTs': '2021-02-22T19:55:39.007486'}\n",
      "None\n"
     ]
    }
   ],
   "source": [
    "resultResponse = requests.get(Baseurl2+\"/trainings/\"+ trainingId,\n",
    "                              auth=(user,password))    \n",
    "print(resultResponse)\n",
    "trainResults = resultResponse.json()\n",
    "print(pprint.pprint(trainResults))"
   ]
  },
  {
   "cell_type": "markdown",
   "metadata": {},
   "source": [
    "# Prediction or Scoring"
   ]
  },
  {
   "cell_type": "markdown",
   "metadata": {},
   "source": [
    "### Scoring Parameters\n",
    "Dictionary below contains the minimum configuration needed to run a scoring job."
   ]
  },
  {
   "cell_type": "code",
   "execution_count": 57,
   "metadata": {},
   "outputs": [
    {
     "data": {
      "text/plain": [
       "('s3://kbs-prediction-service-molex/EUR/monthly_agg_SKU_CUST_EUR.csv',\n",
       " 'https://kgsa-dev.kochcloud.com')"
      ]
     },
     "execution_count": 57,
     "metadata": {},
     "output_type": "execute_result"
    }
   ],
   "source": [
    "f'{bas_s3_pth}{file_name}', Baseurl"
   ]
  },
  {
   "cell_type": "markdown",
   "metadata": {},
   "source": [
    "# Prediction: Using Previously Trained Model"
   ]
  },
  {
   "cell_type": "code",
   "execution_count": 28,
   "metadata": {},
   "outputs": [],
   "source": [
    "scoringDict = {\n",
    "        \"scoring\": {\n",
    "            \"score_name\": \"Generate forecast for EUR region of molex\",\n",
    "            \"target_data_location\": sav_pth,\n",
    "            \"model_names\": [\"ARIMA\", \"HOLTWINTERS\",\"PROPHET\"],\n",
    "            \"prediction_steps\": 25,\n",
    "            \"prediction_count\": 25,\n",
    "            \"train_run_id\": trainingId\n",
    "        }\n",
    "    }\n",
    "predResponse = requests.post(Baseurl+ \"/predictions\", \n",
    "                         auth=(user, password),\n",
    "                         data = json.dumps(scoringDict))  "
   ]
  },
  {
   "cell_type": "code",
   "execution_count": 29,
   "metadata": {},
   "outputs": [
    {
     "name": "stdout",
     "output_type": "stream",
     "text": [
      "<Response [200]>\n",
      "{'runId': '20fcd3ab-9f30-4e52-9340-8b48981f1956', 'status': 'Created'}\n",
      "None\n",
      "20fcd3ab-9f30-4e52-9340-8b48981f1956\n"
     ]
    }
   ],
   "source": [
    "print(predResponse)\n",
    "predStatus = predResponse.json()\n",
    "print(pprint.pprint(predStatus))\n",
    "predId = predStatus['runId']\n",
    "print(predId)"
   ]
  },
  {
   "cell_type": "markdown",
   "metadata": {},
   "source": [
    "### Get Prediction Status"
   ]
  },
  {
   "cell_type": "code",
   "execution_count": 62,
   "metadata": {},
   "outputs": [
    {
     "ename": "NameError",
     "evalue": "name 'predId' is not defined",
     "output_type": "error",
     "traceback": [
      "\u001b[0;31m---------------------------------------------------------------------------\u001b[0m",
      "\u001b[0;31mNameError\u001b[0m                                 Traceback (most recent call last)",
      "\u001b[0;32m<ipython-input-62-5a66658477c7>\u001b[0m in \u001b[0;36m<module>\u001b[0;34m\u001b[0m\n\u001b[0;32m----> 1\u001b[0;31m predResponse = requests.get(Baseurl+\"/get_prediction_status/\"+ predId,\n\u001b[0m\u001b[1;32m      2\u001b[0m                               auth=(user,password))    \n\u001b[1;32m      3\u001b[0m \u001b[0mprint\u001b[0m\u001b[0;34m(\u001b[0m\u001b[0mpredResponse\u001b[0m\u001b[0;34m)\u001b[0m\u001b[0;34m\u001b[0m\u001b[0m\n\u001b[1;32m      4\u001b[0m \u001b[0mpredStatus\u001b[0m \u001b[0;34m=\u001b[0m \u001b[0mpredResponse\u001b[0m\u001b[0;34m.\u001b[0m\u001b[0mjson\u001b[0m\u001b[0;34m(\u001b[0m\u001b[0;34m)\u001b[0m\u001b[0;34m\u001b[0m\u001b[0m\n\u001b[1;32m      5\u001b[0m \u001b[0mprint\u001b[0m\u001b[0;34m(\u001b[0m\u001b[0mpprint\u001b[0m\u001b[0;34m.\u001b[0m\u001b[0mpprint\u001b[0m\u001b[0;34m(\u001b[0m\u001b[0mpredStatus\u001b[0m\u001b[0;34m)\u001b[0m\u001b[0;34m)\u001b[0m\u001b[0;34m\u001b[0m\u001b[0m\n",
      "\u001b[0;31mNameError\u001b[0m: name 'predId' is not defined"
     ]
    }
   ],
   "source": [
    "predResponse = requests.get(Baseurl+\"/fetch_predictions/\"+ predId,\n",
    "                              auth=(user,password))    \n",
    "print(predResponse)\n",
    "predStatus = predResponse.json()\n",
    "print(pprint.pprint(predStatus))\n",
    "predId = predStatus['runId']\n",
    "print(predId)"
   ]
  },
  {
   "cell_type": "markdown",
   "metadata": {},
   "source": [
    "### Fetch Prediction Results"
   ]
  },
  {
   "cell_type": "code",
   "execution_count": 32,
   "metadata": {},
   "outputs": [
    {
     "name": "stdout",
     "output_type": "stream",
     "text": [
      "<Response [200]>\n",
      "{'resultLocation': 's3://prediction-services/score/',\n",
      " 'runId': '20fcd3ab-9f30-4e52-9340-8b48981f1956',\n",
      " 'scoreEndTs': '2021-02-17T03:57:54.286754',\n",
      " 'scoreStartTs': '2021-02-17T03:57:54.109345',\n",
      " 'status': 'Failed',\n",
      " 'status_message': 'Failed to write to S3',\n",
      " 'updateTs': '2021-02-17T03:57:54.028922'}\n",
      "None\n"
     ]
    }
   ],
   "source": [
    "predResponse = requests.get(Baseurl+\"/predictions/\"+ predId,\n",
    "                              auth=(user,password))    \n",
    "print(predResponse)\n",
    "predResults = predResponse.json()\n",
    "print(pprint.pprint(predResults))"
   ]
  }
 ],
 "metadata": {
  "kernelspec": {
   "display_name": "Python 3",
   "language": "python",
   "name": "python3"
  },
  "language_info": {
   "codemirror_mode": {
    "name": "ipython",
    "version": 3
   },
   "file_extension": ".py",
   "mimetype": "text/x-python",
   "name": "python",
   "nbconvert_exporter": "python",
   "pygments_lexer": "ipython3",
   "version": "3.8.6"
  }
 },
 "nbformat": 4,
 "nbformat_minor": 4
}
